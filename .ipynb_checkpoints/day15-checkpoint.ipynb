{
 "cells": [
  {
   "cell_type": "markdown",
   "id": "6556ad0c-03e8-4551-a2b3-ace74f0cc206",
   "metadata": {},
   "source": [
    "# Day 15 mini - Definining functions "
   ]
  },
  {
   "cell_type": "markdown",
   "id": "2e30ba75-cf5c-4786-8998-54dc404c8c3c",
   "metadata": {},
   "source": [
    "## Function arguments"
   ]
  },
  {
   "cell_type": "markdown",
   "id": "dfd45a83-da12-412e-b730-80421c2cce79",
   "metadata": {},
   "source": [
    "> In the example below, we go over defining functions w/ arguments that can be indicated by position only, position or keyword and keyword only arguments"
   ]
  },
  {
   "cell_type": "code",
   "execution_count": 13,
   "id": "6b0e6257-76d2-472b-bfd1-e9f32b0d3479",
   "metadata": {},
   "outputs": [
    {
     "name": "stdout",
     "output_type": "stream",
     "text": [
      "22 2\n",
      "Hi\n",
      "hello hi there\n"
     ]
    }
   ],
   "source": [
    "def randFunc(x,y,pos_or_kwd = 2, kwd1 ='keyword one', kwd2='keyword two'):\n",
    "    print(x,y)\n",
    "    print(pos_or_kwd)\n",
    "    print(kwd1, kwd2)\n",
    "    \n",
    "randFunc(22,2,'Hi', kwd1 = 'hello', kwd2 = 'hi there')    "
   ]
  },
  {
   "cell_type": "markdown",
   "id": "4a73eaa3-9cc3-4aff-8070-86566378029d",
   "metadata": {},
   "source": [
    "- The first 2 arguments, `x` and `y` are the usual, position only arguments\n",
    "- The 3rd argument, `pos_or_kwd` can be called by position or keyword since it is named w/ a default value\n",
    "- The last 2 arguments `kwd1` and `kwd2` can be called w/ the keyword only"
   ]
  },
  {
   "cell_type": "markdown",
   "id": "d978bc46-44e0-4f60-a802-42fdbbf2a235",
   "metadata": {},
   "source": [
    "This can be made explicit by doing the following: "
   ]
  },
  {
   "cell_type": "code",
   "execution_count": 14,
   "id": "7730249d-822b-4068-83a2-f460e17ddc54",
   "metadata": {},
   "outputs": [
    {
     "name": "stdout",
     "output_type": "stream",
     "text": [
      "22 2\n",
      "Hi\n",
      "hello hi there\n"
     ]
    }
   ],
   "source": [
    "def randFunc(x,y,/,pos_or_kwd = 2,*, kwd1 ='keyword one', kwd2='keyword two'):\n",
    "    print(x,y)\n",
    "    print(pos_or_kwd)\n",
    "    print(kwd1, kwd2)\n",
    "    \n",
    "randFunc(22,2,'Hi', kwd1 = 'hello', kwd2 = 'hi there')    "
   ]
  },
  {
   "cell_type": "markdown",
   "id": "45eeee79-c787-45fe-9d14-1476df6a858c",
   "metadata": {},
   "source": [
    "The `/` and `*` are optional but can be used as markers for which arguments are position or keyword and which arguments are keyword only "
   ]
  },
  {
   "cell_type": "markdown",
   "id": "84be1255-85b0-4309-a240-b064b263dbca",
   "metadata": {},
   "source": [
    "**Note** The default behavior is position or keyword only so this isn't totally necessary"
   ]
  },
  {
   "cell_type": "markdown",
   "id": "425d4b49-452c-43d6-ad84-0df2e1d09a6d",
   "metadata": {},
   "source": [
    "## Lambda functions\n",
    "> Lambda functions are when a single use function is required. They are useful to shorthand code, particularly in situations that require a function to be taken as an argument like higher order sorting functions that take another function as an argument"
   ]
  },
  {
   "cell_type": "markdown",
   "id": "64d74c3b-d355-4827-9ea3-d6f8a391aeea",
   "metadata": {},
   "source": [
    "Here is an example that shows it being used, mostly as proof that it can replace a basic function definition"
   ]
  },
  {
   "cell_type": "code",
   "execution_count": 31,
   "id": "f11a42d8-c873-41d7-abbc-d8434c2b2a83",
   "metadata": {},
   "outputs": [
    {
     "name": "stdout",
     "output_type": "stream",
     "text": [
      "8\n",
      "-4\n",
      "8\n",
      "-4\n"
     ]
    }
   ],
   "source": [
    "add = lambda x,y: x+y \n",
    "print(add(2,6))\n",
    "subtract = lambda x,y: x-y\n",
    "print(subtract(2,6))\n",
    "def add2(x,y):\n",
    "    return x+y \n",
    "def subtract2(x,y):\n",
    "    return x-y\n",
    "print(add2(2,6))\n",
    "print(subtract2(2,6))"
   ]
  },
  {
   "cell_type": "markdown",
   "id": "08442d3b-acfe-429c-9421-e68df3807bd7",
   "metadata": {},
   "source": [
    "Here is a more serious use case:"
   ]
  },
  {
   "cell_type": "markdown",
   "id": "28ab3a17-984d-453f-b4c7-aaed799c6711",
   "metadata": {},
   "source": [
    "### `Sorted` using lambda"
   ]
  },
  {
   "cell_type": "code",
   "execution_count": 32,
   "id": "ed92dcad-7938-4c9f-bf83-97e0fe54b0eb",
   "metadata": {},
   "outputs": [
    {
     "name": "stdout",
     "output_type": "stream",
     "text": [
      "[('Bob', 25), ('Alice', 30), ('Charlie', 35)]\n"
     ]
    }
   ],
   "source": [
    "# List of tuples (name, age)\n",
    "people = [(\"Alice\", 30), (\"Bob\", 25), (\"Charlie\", 35)]\n",
    "\n",
    "# Sort by age (second element in the tuple)\n",
    "sorted_people = sorted(people, key=lambda x: x[1])\n",
    "\n",
    "print(sorted_people)"
   ]
  },
  {
   "cell_type": "markdown",
   "id": "8974bb67-fb48-4bbd-8121-2b8852f9c4fa",
   "metadata": {},
   "source": [
    "This example is more useful because the `sorted` func takes in a key function to be used to sort the *list* **people**"
   ]
  },
  {
   "cell_type": "markdown",
   "id": "252208e6-2dae-4db4-9173-ffc1b9912ea5",
   "metadata": {},
   "source": [
    "### `filter` using lambda"
   ]
  },
  {
   "cell_type": "code",
   "execution_count": 33,
   "id": "f6acbb06-2220-41b0-a192-f34e524841c8",
   "metadata": {},
   "outputs": [
    {
     "name": "stdout",
     "output_type": "stream",
     "text": [
      "[2, 4, 6, 8, 10]\n"
     ]
    }
   ],
   "source": [
    "# List of numbers\n",
    "numbers = [1, 2, 3, 4, 5, 6, 7, 8, 9, 10]\n",
    "\n",
    "# Filter even numbers\n",
    "even_numbers = list(filter(lambda x: x % 2 == 0, numbers))\n",
    "\n",
    "print(even_numbers)"
   ]
  },
  {
   "cell_type": "markdown",
   "id": "1afdeea8-b07d-4c4f-a21f-8ced54c74c24",
   "metadata": {},
   "source": [
    "This lambda function takes `x` as the parameter and only returns numbers that have a remainder of 0 after being divided by 2"
   ]
  },
  {
   "cell_type": "markdown",
   "id": "b9cf7c3d-067c-4916-ac54-540eb5a3c8a2",
   "metadata": {},
   "source": [
    "### `reduce` using lambda"
   ]
  },
  {
   "cell_type": "code",
   "execution_count": 34,
   "id": "200d2e2f-f33e-4bf7-acb3-d1215bdce0ae",
   "metadata": {},
   "outputs": [
    {
     "name": "stdout",
     "output_type": "stream",
     "text": [
      "120\n"
     ]
    }
   ],
   "source": [
    "from functools import reduce\n",
    "\n",
    "# List of numbers\n",
    "numbers = [1, 2, 3, 4, 5]\n",
    "\n",
    "# Calculate the product of all numbers\n",
    "product = reduce(lambda x, y: x * y, numbers)\n",
    "\n",
    "print(product)"
   ]
  },
  {
   "cell_type": "markdown",
   "id": "75b62da8-922b-4251-9e25-bebc1726e110",
   "metadata": {},
   "source": [
    "This lambda function calculates the produce by keeping one variable for the total and one variable for the current number"
   ]
  },
  {
   "cell_type": "markdown",
   "id": "666f1d6a-fe39-4ef2-8ed3-a394369925ff",
   "metadata": {},
   "source": [
    "All of these examples can shorten code tremendously by not needing a seperate named function to be present for these higher order functions `reduce`, `sorted` and `map`"
   ]
  },
  {
   "cell_type": "markdown",
   "id": "9a6f372e-95f7-4dd4-b2ae-ae4ffc0d4d58",
   "metadata": {},
   "source": [
    "One more personal example to make sure I get it:\n",
    "\n",
    "The goal is to sort by the result which is a randum integer so no cheating"
   ]
  },
  {
   "cell_type": "code",
   "execution_count": 57,
   "id": "5e1529f1-c125-4604-b67f-4dcff8d73904",
   "metadata": {},
   "outputs": [
    {
     "name": "stdout",
     "output_type": "stream",
     "text": [
      "name Alice Johnson and age 14\n",
      "name Sophia Wilson and age 14\n",
      "name John Doe and age 15\n",
      "name Emily Davis and age 15\n",
      "name Liam Anderson and age 15\n",
      "name Jane Smith and age 16\n",
      "name Michael Miller and age 16\n",
      "name Olivia Taylor and age 16\n",
      "name Bob Brown and age 17\n",
      "name James Moore and age 17\n"
     ]
    }
   ],
   "source": [
    "import random\n",
    "\n",
    "students = {\n",
    "    \"John Doe\": {\"age\": 15, \"result\": random.randint(50, 100)},\n",
    "    \"Jane Smith\": {\"age\": 16, \"result\": random.randint(50, 100)},\n",
    "    \"Alice Johnson\": {\"age\": 14, \"result\": random.randint(50, 100)},\n",
    "    \"Bob Brown\": {\"age\": 17, \"result\": random.randint(50, 100)},\n",
    "    \"Emily Davis\": {\"age\": 15, \"result\": random.randint(50, 100)},\n",
    "    \"Michael Miller\": {\"age\": 16, \"result\": random.randint(50, 100)},\n",
    "    \"Sophia Wilson\": {\"age\": 14, \"result\": random.randint(50, 100)},\n",
    "    \"James Moore\": {\"age\": 17, \"result\": random.randint(50, 100)},\n",
    "    \"Olivia Taylor\": {\"age\": 16, \"result\": random.randint(50, 100)},\n",
    "    \"Liam Anderson\": {\"age\": 15, \"result\": random.randint(50, 100)},\n",
    "}\n",
    "sorted_list = (sorted(students.items(),key= lambda student: student[1]['age'] ) )\n",
    "for name,details in sorted_list:\n",
    "    print(f'name: {name} and age: {details['age']}' )"
   ]
  },
  {
   "cell_type": "markdown",
   "id": "5c9d323a-fc7f-4141-9c3f-577017b170ad",
   "metadata": {},
   "source": [
    "I wish I could take full credit for this but I was helped by chatgpt. It sucks but I still can't wrap my head fully around how to do this without the help. I can read the function perfectly but coming up with it myself was difficult. I knew I could use tuples to figure this out from doing it previously with the lambda function but the lambda function makes it so compact that I have some difficulty. A bit discouraging but it just means I need to learn more before writing code that's so succint"
   ]
  },
  {
   "cell_type": "code",
   "execution_count": null,
   "id": "e0580d8b-eccf-413b-8da8-bd778e4a9326",
   "metadata": {},
   "outputs": [],
   "source": []
  }
 ],
 "metadata": {
  "kernelspec": {
   "display_name": "Python 3 (ipykernel)",
   "language": "python",
   "name": "python3"
  },
  "language_info": {
   "codemirror_mode": {
    "name": "ipython",
    "version": 3
   },
   "file_extension": ".py",
   "mimetype": "text/x-python",
   "name": "python",
   "nbconvert_exporter": "python",
   "pygments_lexer": "ipython3",
   "version": "3.12.4"
  }
 },
 "nbformat": 4,
 "nbformat_minor": 5
}
