{
 "cells": [
  {
   "cell_type": "markdown",
   "id": "6bd7a254-5178-461a-82a7-c1b2acd86b68",
   "metadata": {},
   "source": [
    "# Day 14 - Object Oriented Programming\n",
    "> A short overview of object oriented programming from Chuck Severance"
   ]
  },
  {
   "cell_type": "markdown",
   "id": "274bf217-7473-41a8-aa6e-730627d6d563",
   "metadata": {},
   "source": [
    "> The basics of objject oriented programming is that there is an input w/ a process then an output\n",
    "- Self contained code and data\n",
    "- Breaks up smaller processes into small bites for use\n",
    "- Objects have boundaries of things to use and not use specified in documentation\n",
    "   - string, lists and dictionary methods are examples of these objects - called *methods*\n",
    "        - string.upper()\n",
    "        - list.sort()\n",
    "        - dictionary.pop()"
   ]
  },
  {
   "cell_type": "markdown",
   "id": "6d10186d-1e6e-4429-97a3-20cc7d4ed671",
   "metadata": {},
   "source": [
    "## Definitions\n",
    "- **Class** - A template\n",
    "    - _Dog_\n",
    "- **Method/Message** - Defined capability of the class\n",
    "    - *bark()*\n",
    "    - *roll_over()*\n",
    "    - *paw()*\n",
    "- **Field or attribute** - Some data in a class\n",
    "    - *length*\n",
    "    - *age*\n",
    "    - *birthday*\n",
    "- **Object or Instance** - A particular instance of a class\n",
    "    - A dog named *Lassie* "
   ]
  },
  {
   "cell_type": "code",
   "execution_count": 9,
   "id": "62b197ce-c197-4450-82e5-3b5f5b9565b6",
   "metadata": {},
   "outputs": [
    {
     "name": "stdout",
     "output_type": "stream",
     "text": [
      "Hello I am Sarah\n",
      "Sarah says\n",
      "Current count is 1\n",
      "Hello I am Sarah\n",
      "Sarah says\n",
      "Current count is 2\n",
      "Sarah says\n",
      "Current count is 3\n",
      "Ben: WOOF WOOF\n",
      "Jerry: MMEEEOOWW\n",
      "Hello I am Jerry\n"
     ]
    }
   ],
   "source": [
    "import datetime\n",
    "class animal: #initializing class\n",
    "    def __init__(self,name): \n",
    "        \"\"\" The init function is used to set attributes \n",
    "            upon creation\n",
    "        self is how the class refers to itself\n",
    "             functions like ``this`` in javascript\n",
    "        \"\"\"\n",
    "        self.age = 0 # assigns age of animal. \n",
    "        \"\"\" \n",
    "        Any assigned attribute can be reference by \n",
    "             the created object of the class\n",
    "             ex: ``sarah.age``\n",
    "        \"\"\"\n",
    "        self.birtday = datetime.datetime.now()\n",
    "        self.name = name\n",
    "        self.current_count = 0\n",
    "    def announce(self): \n",
    "        \"\"\"\n",
    "        functions created inside the class\n",
    "            are accessed like methods\n",
    "            ex: ``sarah.announce()``\n",
    "        \"\"\"\n",
    "        print(f'Hello I am {self.name}')\n",
    "    \n",
    "    def count(self):\n",
    "        \"\"\"\n",
    "        Attributes are kept track of by individual \n",
    "            objects/instances of the class\n",
    "\n",
    "        Meaning different objects have different values\n",
    "            even if the values are named the same\n",
    "        \"\"\"\n",
    "        self.current_count += 1\n",
    "        print(f'{self.name} says') \n",
    "        print(f'Current count is {self.current_count}')\n",
    "    def birthday(self):\n",
    "        print(f'My birthday is {self.birthday}')\n",
    "sarah = animal('Sarah')\n",
    "sarah.announce()\n",
    "sarah.count()\n",
    "sarah.announce()\n",
    "sarah.count()\n",
    "sarah.count()\n",
    "#sarah.bark()\n",
    "#try:\n",
    "#    sarah.meow()\n",
    "#except: \n",
    "#    print('Sorreh. Only cats can meow') \n",
    "\n",
    "class dog(animal): \n",
    "    \"\"\"\n",
    "    The first example of extending classes in python\n",
    "        using a dog\n",
    "        \n",
    "    Putting the parent an argument tells python\n",
    "        which class to extend from\n",
    "    \"\"\"\n",
    "    def __init__(self,name):\n",
    "        \"\"\"\n",
    "        Attributes from previous classes are kept\n",
    "        \"\"\"\n",
    "        self.animal_type = 'dog'\n",
    "        self.name = name.capitalize()\n",
    "    def bark(self):\n",
    "        print(f'{self.name}: WOOF WOOF')\n",
    "\n",
    "class cat(animal):\n",
    "    def __init__(self,name):\n",
    "        self.animal_type = 'cat'\n",
    "        self.name = name.capitalize()\n",
    "    def meow(self):\n",
    "        print(f'{self.name}: MMEEEOOWW')\n",
    "\n",
    "jerry = cat('jerry')\n",
    "ben = dog('ben')\n",
    "\n",
    "ben.bark()\n",
    "jerry.meow()\n",
    "jerry.announce()\n",
    "#Extension allows the announce method \n",
    "    #to carry over"
   ]
  }
 ],
 "metadata": {
  "kernelspec": {
   "display_name": "Python 3 (ipykernel)",
   "language": "python",
   "name": "python3"
  },
  "language_info": {
   "codemirror_mode": {
    "name": "ipython",
    "version": 3
   },
   "file_extension": ".py",
   "mimetype": "text/x-python",
   "name": "python",
   "nbconvert_exporter": "python",
   "pygments_lexer": "ipython3",
   "version": "3.12.4"
  }
 },
 "nbformat": 4,
 "nbformat_minor": 5
}
