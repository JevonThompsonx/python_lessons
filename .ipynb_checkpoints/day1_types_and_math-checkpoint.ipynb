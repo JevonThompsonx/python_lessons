{
 "cells": [
  {
   "cell_type": "markdown",
   "metadata": {},
   "source": [
    "# Types"
   ]
  },
  {
   "cell_type": "markdown",
   "metadata": {},
   "source": [
    "## Basic Types"
   ]
  },
  {
   "cell_type": "markdown",
   "metadata": {},
   "source": [
    "- **Ints** - Whole numbers\n",
    "- **Strings** - ``'Letters and numbers inside qoutations'`` \n",
    "- **Floats** - Decimal numbers - ex 3.2\n",
    "- **Bools** - ``True``/``False``\n",
    "  - non zero numbs are true "
   ]
  },
  {
   "cell_type": "markdown",
   "metadata": {},
   "source": [
    "## Variables "
   ]
  },
  {
   "cell_type": "markdown",
   "metadata": {},
   "source": [
    "### Rules: "
   ]
  },
  {
   "cell_type": "markdown",
   "metadata": {},
   "source": [
    "- In python, variable are created w/o keywords\n",
    "  - ex: x = 7\n",
    "- Variables *cannot* start w/ a number\n",
    "- Variables can include both numbers and letters\n",
    "  - As long as they do not start w/ a number\n",
    "- **Reserved words** and some punctuations cannot be variable names\n",
    "- You will get a syntax error for invalid names"
   ]
  },
  {
   "cell_type": "markdown",
   "metadata": {},
   "source": [
    "### Best practice "
   ]
  },
  {
   "cell_type": "markdown",
   "metadata": {},
   "source": [
    "- Choose meaningful variable names\n",
    "- Underscores are commonly used to mark multiple_words\n",
    "- Best practice to capitalize constants\n"
   ]
  },
  {
   "cell_type": "markdown",
   "metadata": {},
   "source": [
    "## Basic Arithmetic"
   ]
  },
  {
   "cell_type": "code",
   "execution_count": 7,
   "metadata": {},
   "outputs": [
    {
     "name": "stdout",
     "output_type": "stream",
     "text": [
      "addition: 8\n",
      "Subtraction: 2\n",
      "Division w/ result's decimal2\n",
      "Multiplication: 20\n",
      "Division w/o result's decimal 2\n",
      "modulo operator: 2\n",
      "exponent 4\n",
      "returning both result w/o decimal and remainder: (1, 3)\n"
     ]
    }
   ],
   "source": [
    "print(f'addition: {4 + 4}')\n",
    "print(f'Subtraction: {4-2}')\n",
    "print(f'Division w/ result\\'s decimal{4//2}')\n",
    "print(f'Multiplication: {4*5}')\n",
    "print(f'Division w/o result\\'s decimal {5//2}')\n",
    "print(f'modulo operator: {6%4}')\n",
    "print(f'exponent {2**2}')\n",
    "print(f'returning both result w/o decimal and remainder: {divmod(9,6)}')"
   ]
  },
  {
   "cell_type": "markdown",
   "metadata": {},
   "source": [
    "# Errors\n"
   ]
  },
  {
   "cell_type": "markdown",
   "metadata": {},
   "source": [
    "## Syntax errors"
   ]
  },
  {
   "cell_type": "markdown",
   "metadata": {},
   "source": [
    "- Errors that indicate breaking grammar rules of python\n",
    "  - points out line of code most likely w/ error\n",
    "    - sometimes it's wrong"
   ]
  },
  {
   "cell_type": "markdown",
   "metadata": {},
   "source": [
    "## Logic Errors"
   ]
  },
  {
   "cell_type": "markdown",
   "metadata": {},
   "source": [
    "- Errors indicating incorrect order of operations or how they fit together"
   ]
  },
  {
   "cell_type": "markdown",
   "metadata": {},
   "source": [
    "## Semantic Errors"
   ]
  },
  {
   "cell_type": "markdown",
   "metadata": {},
   "source": [
    "- When order and syntax are correct along w/ how they fit together but there was a mistake in not doing what was intended"
   ]
  },
  {
   "cell_type": "markdown",
   "metadata": {},
   "source": [
    "# Debugging"
   ]
  },
  {
   "cell_type": "markdown",
   "metadata": {},
   "source": [
    "- Read code to assess\n",
    "- Use error code to assess \n",
    "- Make changes in areas w/ errors and observe effects \n",
    "- Take a break \n",
    "- Talk it out w/ someone \n",
    "- Bring back to prior version \n",
    "  - github for version control\n",
    "  - copying file before changes to compare "
   ]
  }
 ],
 "metadata": {
  "kernelspec": {
   "display_name": "Python 3",
   "language": "python",
   "name": "python3"
  },
  "language_info": {
   "codemirror_mode": {
    "name": "ipython",
    "version": 3
   },
   "file_extension": ".py",
   "mimetype": "text/x-python",
   "name": "python",
   "nbconvert_exporter": "python",
   "pygments_lexer": "ipython3",
   "version": "3.12.4"
  }
 },
 "nbformat": 4,
 "nbformat_minor": 2
}
