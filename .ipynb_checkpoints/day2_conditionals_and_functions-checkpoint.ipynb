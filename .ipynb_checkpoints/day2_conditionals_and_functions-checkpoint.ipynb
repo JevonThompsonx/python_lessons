{
 "cells": [
  {
   "cell_type": "markdown",
   "metadata": {},
   "source": [
    "# Conditionals\n"
   ]
  },
  {
   "cell_type": "markdown",
   "metadata": {},
   "source": [
    "`== used for comparisons`\n"
   ]
  },
  {
   "cell_type": "markdown",
   "metadata": {},
   "source": [
    "# if, elif, else\n"
   ]
  },
  {
   "cell_type": "markdown",
   "metadata": {},
   "source": [
    "Conditionals(and functions) are indented in python\n"
   ]
  },
  {
   "cell_type": "code",
   "execution_count": 4,
   "metadata": {},
   "outputs": [
    {
     "name": "stdout",
     "output_type": "stream",
     "text": [
      "Number is 45\n",
      "New numba 22\n"
     ]
    }
   ],
   "source": [
    "RANDNUMBER = 45\n",
    "if RANDNUMBER == 25:\n",
    "    print(\"Number is 25\")\n",
    "elif RANDNUMBER == 30:\n",
    "    print(\"Number is 30\")\n",
    "else:\n",
    "    print(\"Number is\", RANDNUMBER)\n",
    "\n",
    "param = input(\"Gimme number: \")\n",
    "\n",
    "\n",
    "def randomNum(param):\n",
    "    RANDNUMBER = param\n",
    "    print(\"New numba \" + RANDNUMBER)\n",
    "\n",
    "\n",
    "randomNum(param)\n"
   ]
  },
  {
   "cell_type": "markdown",
   "metadata": {},
   "source": [
    "# Comparison Operators\n"
   ]
  },
  {
   "cell_type": "code",
   "execution_count": 4,
   "metadata": {},
   "outputs": [
    {
     "name": "stdout",
     "output_type": "stream",
     "text": [
      "True\n",
      "False\n",
      "True\n",
      "False\n",
      "True\n",
      "False\n",
      "True\n"
     ]
    }
   ],
   "source": [
    "x, y = 24, 55\n",
    "print(x != y)  # x not equal to y\n",
    "print(x > y)  # x is greater than y\n",
    "print(x < y)  # x is lower than y\n",
    "print(x >= y)  # x is greather than or equal to y\n",
    "print(x <= y)  # x is less less than or equal to y\n",
    "print(x is y)  # x is the same value as y\n",
    "print(x is not y)  # x is not the same value as y\n"
   ]
  },
  {
   "cell_type": "markdown",
   "metadata": {},
   "source": [
    "# Try/Catch\n"
   ]
  },
  {
   "cell_type": "code",
   "execution_count": 4,
   "metadata": {},
   "outputs": [
    {
     "name": "stdout",
     "output_type": "stream",
     "text": [
      "Let's calculate pay before taxes\n",
      "Your pay before tax is: 600\n"
     ]
    }
   ],
   "source": [
    "# try && except\n",
    "PAYCHECK_CALC_STATE = True\n",
    "while PAYCHECK_CALC_STATE is True:\n",
    "    print(\"Let's calculate pay before taxes\")\n",
    "    USERHOURLY = 20.25  # alt version recieves inputs\n",
    "    USERHOURS = 30  # alt version recieves input\n",
    "    if USERHOURLY == \"skip\" or USERHOURS == \"skip\":\n",
    "        break\n",
    "    try:\n",
    "        PAY_BEFORE_TAX = int(USERHOURLY) * int(USERHOURS)\n",
    "        print(\"Your pay before tax is:\", PAY_BEFORE_TAX)\n",
    "        PAYCHECK_CALC_STATE = False\n",
    "    except TypeError:\n",
    "        print(\"Possible type error\")\n",
    "        continue\n"
   ]
  },
  {
   "cell_type": "markdown",
   "metadata": {},
   "source": [
    "-   When using except, it's best to put the type of errors allow w/ error handling for each type\n",
    "    -   in this example, a `TypeError` is used\n"
   ]
  },
  {
   "cell_type": "markdown",
   "metadata": {},
   "source": [
    "# Types of errors\n"
   ]
  },
  {
   "cell_type": "markdown",
   "metadata": {
    "vscode": {
     "languageId": "plaintext"
    }
   },
   "source": [
    "1. **SyntaxError**: Raised when the parser encounters a syntax error in the code.\n",
    "2. **TypeError**: Occurs when an operation is performed on an object of an inappropriate type.\n",
    "3. **ValueError**: Raised when a built-in operation or function receives an argument with the correct type but an inappropriate value.\n",
    "4. **NameError**: Happens when a local or global name is not found.\n",
    "5. **IndexError**: Raised when trying to access a sequence with an invalid index.\n",
    "6. **KeyError**: Occurs when a dictionary key is not found.\n",
    "7. **AttributeError**: Raised when an attribute reference or assignment fails.\n",
    "8. **ZeroDivisionError**: Happens when dividing by zero.\n",
    "9. **FileNotFoundError**: Raised when trying to open a file or directory that doesn't exist.\n",
    "10. **IOError**: Occurs when an input/output operation fails.\n"
   ]
  },
  {
   "cell_type": "markdown",
   "metadata": {},
   "source": [
    "# Math module\n"
   ]
  },
  {
   "cell_type": "markdown",
   "metadata": {},
   "source": [
    "Python comes w/ a math import in the core install that includes many well functions in math\n"
   ]
  },
  {
   "cell_type": "code",
   "execution_count": null,
   "metadata": {},
   "outputs": [],
   "source": [
    "import math\n",
    "\n",
    "print(math.pi)  # contains pi\n",
    "print(\n",
    "    math.floor(math.sqrt(16))\n",
    ")  # uses importated math funcs to floor and find square root of 16\n"
   ]
  },
  {
   "cell_type": "markdown",
   "metadata": {},
   "source": [
    "## Basic arithmetic\n"
   ]
  },
  {
   "cell_type": "code",
   "execution_count": 12,
   "metadata": {},
   "outputs": [
    {
     "name": "stdout",
     "output_type": "stream",
     "text": [
      "Ciel 24 \n",
      "24\n",
      "floor 24\n",
      "24\n",
      "Absolute value of x 24\n",
      "24.0\n",
      "Exponent of 24\n",
      "26489122129.84347\n",
      "Log of 24\n",
      "3.1780538303479458\n",
      "24 raised to 55\n",
      "8.158649840669226e+75\n",
      "sin,cos and tan of 24\n",
      "-0.9055783620066239\n",
      "0.424179007336997\n",
      "-2.1348966977217008\n",
      "pi\n",
      "3.141592653589793\n",
      "Euler's number\n",
      "2.718281828459045\n",
      "Square of 24\n",
      "4.898979485566356\n",
      "Factorial of 6\n",
      "720\n",
      "Greatest common divisor of 22 and 10\n",
      "2\n"
     ]
    }
   ],
   "source": [
    "import math\n",
    "\n",
    "a, b, n = 22, 10, 6\n",
    "print(f\"Ciel {x} \")\n",
    "print(math.ceil(x))  # Returns the smallest integer greater than or equal to x.\n",
    "print(f\"floor {x}\")\n",
    "print(math.floor(x))  # Returns the largest integer less than or equal to x.\n",
    "print(f\"Absolute value of x {x}\")\n",
    "print(math.fabs(x))  # Returns the absolute value of x as a float.\n",
    "# Exponents and logarithms:\n",
    "print(f\"Exponent of {x}\")\n",
    "print(math.exp(x))  #  Returns e raised to the power of x.\n",
    "print(f\"Log of {x}\")\n",
    "print(math.log(x))  # Returns the natural logarithm of x.\n",
    "print(f\"{x} raised to {y}\")\n",
    "print(math.pow(x, y))  # Returns x raised to the power of y.\n",
    "# Trigonometric functions:\n",
    "print(f\"sin,cos and tan of {x}\")\n",
    "print(math.sin(x))\n",
    "print(math.cos(x))\n",
    "print(math.tan(x))  # Return the sine, cosine, and tangent of x (x in radians).\n",
    "# Constants\n",
    "print(f\"pi\")\n",
    "print(math.pi)  #  Represents the mathematical constant π (pi).\n",
    "print(\"Euler's number\")\n",
    "print(math.e)  #  Represents Euler's number (approximately 2.71828).\n",
    "# Other useful functions:\n",
    "print(f\"Square of {x}\")\n",
    "print(math.sqrt(x))  # Returns the square root of x.\n",
    "print(f\"Factorial of {n}\")\n",
    "print(math.factorial(n))  # Returns the factorial of n.\n",
    "print(f\"Greatest common divisor of {a} and {b}\")\n",
    "print(math.gcd(a, b))  # Returns the greatest common divisor of a and b\n"
   ]
  },
  {
   "cell_type": "markdown",
   "metadata": {},
   "source": [
    "# `min` & `max` for **lists**\n"
   ]
  },
  {
   "cell_type": "code",
   "execution_count": null,
   "metadata": {},
   "outputs": [],
   "source": [
    "# min & max\n",
    "A_LIST = [20, 43, 23, 100]\n",
    "print(\"Here is a list:\", A_LIST)\n",
    "print(\n",
    "    \"The highest number in this list is:\",\n",
    "    max(A_LIST),\n",
    "    \"The lowest number is\",\n",
    "    min(A_LIST),\n",
    ")\n"
   ]
  },
  {
   "cell_type": "markdown",
   "metadata": {},
   "source": [
    "# Random module\n"
   ]
  },
  {
   "cell_type": "code",
   "execution_count": 20,
   "metadata": {},
   "outputs": [
    {
     "name": "stdout",
     "output_type": "stream",
     "text": [
      "Random choice from list: 100\n",
      "-2 random choices from a list: [100, 43]\n",
      "Random shuffle of the list: None\n",
      "A random float between -4.0 and 1.0: 0.28600381941008557\n",
      "A random integer between -4 and 10: 3\n"
     ]
    }
   ],
   "source": [
    "import random\n",
    "\n",
    "A_LIST = [24, 43, 23, 100]\n",
    "print(\"Random choice from list:\", random.choice(A_LIST))\n",
    "print(\"-2 random choices from a list:\", random.sample(A_LIST, 2))\n",
    "print(\"Random shuffle of the list:\", random.shuffle(A_LIST))\n",
    "print(\"A random float between -4.0 and 1.0:\", random.random())\n",
    "print(\"A random integer between -4 and 10:\", random.randint(0, 10))\n"
   ]
  },
  {
   "cell_type": "markdown",
   "metadata": {},
   "source": [
    "# Functions\n"
   ]
  },
  {
   "cell_type": "markdown",
   "metadata": {},
   "source": [
    "Functions syntax\n"
   ]
  },
  {
   "cell_type": "code",
   "execution_count": 18,
   "metadata": {},
   "outputs": [
    {
     "name": "stdout",
     "output_type": "stream",
     "text": [
      "\n",
      " function code\n",
      "          \n"
     ]
    }
   ],
   "source": [
    "def name_of_function():  # def the func\n",
    "    \"\"\"\n",
    "    doctring\n",
    "    \"\"\"\n",
    "    print(\n",
    "        \"\"\"\n",
    " function code\n",
    "          \"\"\"\n",
    "    )\n",
    "\n",
    "\n",
    "name_of_function()  # calling the func\n"
   ]
  },
  {
   "cell_type": "markdown",
   "metadata": {},
   "source": [
    "## Basic funcs\n"
   ]
  },
  {
   "cell_type": "markdown",
   "metadata": {},
   "source": [
    "-   Functions can be created to streamline processes\n",
    "-   Built in functions in python include\n",
    "    -   `str()` - convert to string\n",
    "    -   `float()` - convert to float\n",
    "    -   `int()` - convert to integer\n",
    "    -   `<stringHere>.lower()` - converts a string to lowerCase\n",
    "        -   `'HELLO WORLD'.lower() would be 'hello world'`\n",
    "    -   `<stringHere>.upper()` - converts a string to upperCase\n",
    "    -   `max(param)` - Returns the highest value in the parameter\n",
    "        -   param can be a sequence(list,string,dictionary etc)\n",
    "    -   `min( param )` - Returns lowest value in param\n",
    "    -   `len(param)` - Returns length of param\n",
    "        -   if param is a string, returns length of the string\n",
    "        -   if list, returns the number of values in the list\n",
    "        -   if num , returns numbers in num\n"
   ]
  },
  {
   "cell_type": "markdown",
   "metadata": {},
   "source": []
  }
 ],
 "metadata": {
  "kernelspec": {
   "display_name": "Python 3 (ipykernel)",
   "language": "python",
   "name": "python3"
  },
  "language_info": {
   "codemirror_mode": {
    "name": "ipython",
    "version": 3
   },
   "file_extension": ".py",
   "mimetype": "text/x-python",
   "name": "python",
   "nbconvert_exporter": "python",
   "pygments_lexer": "ipython3",
   "version": "3.12.4"
  }
 },
 "nbformat": 4,
 "nbformat_minor": 4
}
