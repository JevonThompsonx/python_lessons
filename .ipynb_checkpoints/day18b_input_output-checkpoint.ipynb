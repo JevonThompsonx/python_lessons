{
 "cells": [
  {
   "cell_type": "markdown",
   "id": "bdf57f8b-acd1-4592-8d38-3188fab5bb66",
   "metadata": {},
   "source": [
    "# Day 18b - Input and Output\n",
    "\n",
    "> Whatever that means\n"
   ]
  },
  {
   "cell_type": "markdown",
   "id": "317f5e52",
   "metadata": {},
   "source": [
    "So input and output aren't anything too crazy. Just about string formatting so far. I'm glosing over what seems uneccesary but the important one I already know which is putting variables in strings using f strings\n"
   ]
  },
  {
   "cell_type": "code",
   "execution_count": 3,
   "id": "a9a9b987-2917-48e5-b21b-9090c3848ec4",
   "metadata": {},
   "outputs": [
    {
     "name": "stdout",
     "output_type": "stream",
     "text": [
      "string_here: 2\n"
     ]
    }
   ],
   "source": [
    "# syntax: \n",
    "value = 2\n",
    "print(f'string_here: {value}')"
   ]
  },
  {
   "cell_type": "code",
   "execution_count": 6,
   "id": "2c872c5c-8964-4473-95e5-e21a7fbbff7b",
   "metadata": {},
   "outputs": [
    {
     "name": "stdout",
     "output_type": "stream",
     "text": [
      "Hi. My name is Samantha, I am 22 years old. My best friend is Grace\n"
     ]
    }
   ],
   "source": [
    "value1, value2, value3 = 'samantha', 22, 'grace' \n",
    "\n",
    "print(f'Hi. My name is {value1.capitalize()}, I am {int(value2)} years old. My best friend is {'grace'.capitalize()}') "
   ]
  },
  {
   "cell_type": "markdown",
   "id": "2dc96241-de84-4066-8a98-bb990c07ea09",
   "metadata": {},
   "source": [
    "There is another form which I won't spend too much time on because I think it's uneccessary but here it is"
   ]
  },
  {
   "cell_type": "code",
   "execution_count": 13,
   "id": "4c4782f1-3b35-4347-8eb3-5da5b70b18f9",
   "metadata": {},
   "outputs": [
    {
     "name": "stdout",
     "output_type": "stream",
     "text": [
      "Hello my name is Cynthia. I am 30 years old\n",
      "My best friend is Julie who is 32\n",
      "Julie and Cynthia have been friends forever!\n"
     ]
    }
   ],
   "source": [
    "name, age, best_friend = 'Cynthia', 30, 'julie'\n",
    "\n",
    "print('Hello my name is {name}. I am {age} years old'.format(name = name, age = age))\n",
    "print('My best friend is {0} who is {1}'.format('julie'.capitalize(), 32))\n",
    "print('{} and {} have been friends forever!'.format('julie'.capitalize(), 'cynthia'.capitalize()))"
   ]
  },
  {
   "cell_type": "markdown",
   "id": "05851100-b9c3-48aa-ba46-e6bc5ae3ea19",
   "metadata": {},
   "source": [
    "So yeah. That's cool. Moving on"
   ]
  },
  {
   "cell_type": "markdown",
   "id": "30990157-0e11-4509-8c3c-b3021269cd21",
   "metadata": {},
   "source": [
    "# Reading & writing files\n",
    "> Already something I've spent some time with but maybe the docs have something more to show me"
   ]
  },
  {
   "cell_type": "markdown",
   "id": "91fdcd62-04b7-428e-a21b-8bf0e4a16872",
   "metadata": {},
   "source": [
    "## reading files"
   ]
  },
  {
   "cell_type": "code",
   "execution_count": null,
   "id": "ccceba98-9b76-4149-8ef0-d5601c878b4c",
   "metadata": {},
   "outputs": [],
   "source": [
    "#syntax: \n",
    "\n",
    "with open('file_name', 'access_type', encoding='encoding_type') as file_handle_variable:\n",
    "    print('Code for file access here')"
   ]
  },
  {
   "cell_type": "markdown",
   "id": "fe512138-fb50-4934-98e9-8d7f4e5f06a9",
   "metadata": {},
   "source": [
    "- The **file name** is obviously the name of the file\n",
    "- The **access type** is what type of access you want from the file.\n",
    "    - ``'r'`` for read access\n",
    "    - ``'a'`` for append\n",
    "        - creates file if doesn't exists\n",
    "        - file pointer at the end \n",
    "    - ``'w'`` for write access\n",
    "        - file pointer at beginning of file\n",
    "    - ``'r+'`` for reading and writing\n",
    "        - raises an error if file doesn't exists\n",
    "    - ``'w+'`` for writing and reading files\n",
    "        - creates file if it doesn't exists\n",
    "- **encoding type** is also self expanatory\n",
    "    - I'll most likely only ever use ``utf-8``"
   ]
  },
  {
   "cell_type": "code",
   "execution_count": 23,
   "id": "4669aa5a-eaec-4fe3-a727-0e79843028ad",
   "metadata": {},
   "outputs": [
    {
     "name": "stdout",
     "output_type": "stream",
     "text": [
      "But soft what light through yonder window breaks\n",
      "It is the east and Juliet is the sun\n",
      "Arise fair sun and kill the envious moon\n",
      "Who is already sick and pale with grief\n",
      "\n"
     ]
    }
   ],
   "source": [
    "with open('files/romeo.txt','r', encoding='utf-8') as file_handle: \n",
    "    print(file_handle.read())"
   ]
  },
  {
   "cell_type": "markdown",
   "id": "4eef0b06-2562-45ef-8f49-690d2ff69ec6",
   "metadata": {},
   "source": [
    "- Best practice to use with to open files as it handles opening and closing the file after use w/o having to think about it.\n",
    "- This example shows how to read and print the entire file"
   ]
  },
  {
   "cell_type": "markdown",
   "id": "3695e43d-abe6-4191-8e3d-2f3d9b8ef1cc",
   "metadata": {},
   "source": [
    "## Opening an entire file"
   ]
  },
  {
   "cell_type": "code",
   "execution_count": 20,
   "id": "ed479553-18b3-4593-84af-edbd5e3de136",
   "metadata": {},
   "outputs": [
    {
     "name": "stdout",
     "output_type": "stream",
     "text": [
      "But soft what light through yonder window breaks\n",
      "It is the east and Juliet is the sun\n",
      "Arise fair sun and kill the envious moon\n",
      "Who is already sick and pale with grief\n",
      "\n",
      "Now let's try to access outside of the with\n"
     ]
    },
    {
     "ename": "ValueError",
     "evalue": "I/O operation on closed file.",
     "output_type": "error",
     "traceback": [
      "\u001b[0;31m---------------------------------------------------------------------------\u001b[0m",
      "\u001b[0;31mValueError\u001b[0m                                Traceback (most recent call last)",
      "Cell \u001b[0;32mIn[20], line 4\u001b[0m\n\u001b[1;32m      2\u001b[0m     \u001b[38;5;28mprint\u001b[39m(file_handle\u001b[38;5;241m.\u001b[39mread())\n\u001b[1;32m      3\u001b[0m \u001b[38;5;28mprint\u001b[39m(\u001b[38;5;124m'\u001b[39m\u001b[38;5;124mNow let\u001b[39m\u001b[38;5;130;01m\\'\u001b[39;00m\u001b[38;5;124ms try to access outside of the with\u001b[39m\u001b[38;5;124m'\u001b[39m)\n\u001b[0;32m----> 4\u001b[0m \u001b[38;5;28mprint\u001b[39m(\u001b[43mfile_handle\u001b[49m\u001b[38;5;241;43m.\u001b[39;49m\u001b[43mread\u001b[49m\u001b[43m(\u001b[49m\u001b[43m)\u001b[49m)\n",
      "\u001b[0;31mValueError\u001b[0m: I/O operation on closed file."
     ]
    }
   ],
   "source": [
    "with open('files/romeo.txt','r', encoding='utf-8') as file_handle: \n",
    "    print(file_handle.read())\n",
    "print('Now let\\'s try to access outside of the with:')\n",
    "print(file_handle.read())"
   ]
  },
  {
   "cell_type": "markdown",
   "id": "11cdfc6d-ed81-4006-b73a-e3fe2956538c",
   "metadata": {},
   "source": [
    "- As shown here, the file is gone after the open statement is unindented\n",
    "- This is an example of reading and printing the entire file"
   ]
  },
  {
   "cell_type": "markdown",
   "id": "ee41ee77-1081-430a-9bb0-9e44f604c31c",
   "metadata": {},
   "source": [
    "## Line by line"
   ]
  },
  {
   "cell_type": "code",
   "execution_count": 22,
   "id": "a449360a-e177-436d-8755-c5a4670b0e30",
   "metadata": {},
   "outputs": [
    {
     "name": "stdout",
     "output_type": "stream",
     "text": [
      "Writing programs or programming is a very creative\n",
      "\n",
      "and rewarding activity  You can write programs for\n",
      "\n",
      "many reasons ranging from making your living to solving\n",
      "\n",
      "a difficult data analysis problem to having fun to helping\n",
      "\n",
      "someone else solve a problem  This book assumes that\n",
      "\n",
      "{\\em everyone} needs to know how to program and that once\n",
      "\n",
      "you know how to program, you will figure out what you want\n",
      "\n",
      "to do with your newfound skills\n",
      "\n",
      "\n",
      "\n",
      "We are surrounded in our daily lives with computers ranging\n",
      "\n",
      "from laptops to cell phones  We can think of these computers\n",
      "\n",
      "as our personal assistants who can take care of many things\n",
      "\n",
      "on our behalf  The hardware in our current-day computers\n",
      "\n",
      "is essentially built to continuously ask us the question\n",
      "\n",
      "What would you like me to do next\n",
      "\n",
      "\n",
      "\n",
      "Our computers are fast and have vasts amounts of memory and\n",
      "\n",
      "could be very helpful to us if we only knew the language to\n",
      "\n",
      "speak to explain to the computer what we would like it to\n",
      "\n",
      "do next If we knew this language we could tell the\n",
      "\n",
      "computer to do tasks on our behalf that were reptitive\n",
      "\n",
      "Interestingly, the kinds of things computers can do best\n",
      "\n",
      "are often the kinds of things that we humans find boring\n",
      "\n",
      "and mind-numbing\n",
      "\n"
     ]
    }
   ],
   "source": [
    "with open('files/words.txt', 'r', encoding='utf-8') as file_handle:\n",
    "    for line in file_handle:\n",
    "        print(line)"
   ]
  },
  {
   "cell_type": "markdown",
   "id": "80bd3786-17f9-45eb-8bef-0ef119c04d78",
   "metadata": {},
   "source": [
    "- This is an example of reading the file line by line and printing the results\n",
    "- Print adds a newline cahracter at the end of each line"
   ]
  },
  {
   "cell_type": "code",
   "execution_count": 31,
   "id": "b0a79772-6976-4e2a-8e6a-7e9ac121969b",
   "metadata": {},
   "outputs": [
    {
     "name": "stdout",
     "output_type": "stream",
     "text": [
      "Writing programs or programming is a very creative\n",
      "and rewarding activity  You can write programs for\n",
      "many reasons ranging from making your living to solving\n",
      "a difficult data analysis problem to having fun to helping\n",
      "someone else solve a problem  This book assumes that\n",
      "{\\em everyone} needs to know how to program and that once\n",
      "you know how to program, you will figure out what you want\n",
      "to do with your newfound skills\n",
      "\n",
      "We are surrounded in our daily lives with computers ranging\n",
      "from laptops to cell phones  We can think of these computers\n",
      "as our personal assistants who can take care of many things\n",
      "on our behalf  The hardware in our current-day computers\n",
      "is essentially built to continuously ask us the question\n",
      "What would you like me to do next\n",
      "\n",
      "Our computers are fast and have vasts amounts of memory and\n",
      "could be very helpful to us if we only knew the language to\n",
      "speak to explain to the computer what we would like it to\n",
      "do next If we knew this language we could tell the\n",
      "computer to do tasks on our behalf that were reptitive\n",
      "Interestingly, the kinds of things computers can do best\n",
      "are often the kinds of things that we humans find boring\n",
      "and mind-numbing\n"
     ]
    }
   ],
   "source": [
    "with open('files/words.txt', 'r', encoding='utf-8') as file_handle:\n",
    "    for line in file_handle:\n",
    "        print(line, end='') # this is just the reminder that the newline can be overwritten"
   ]
  },
  {
   "cell_type": "code",
   "execution_count": 29,
   "id": "780f3d75-0e0e-4cbc-8429-98abd297e5a3",
   "metadata": {},
   "outputs": [
    {
     "name": "stdout",
     "output_type": "stream",
     "text": [
      "Writing programs or programming is a very creative\n",
      "\n",
      "---\n",
      "This here reads the file line by line\n",
      "---\n",
      "\n",
      "and rewarding activity  You can write programs for\n",
      "\n"
     ]
    }
   ],
   "source": [
    "with open('files/words.txt', 'r', encoding='utf-8') as file_handle:\n",
    "    print(file_handle.readline())\n",
    "    print('---')\n",
    "    print('This here reads the file line by line')\n",
    "    print('---\\n')\n",
    "    print(file_handle.readline())"
   ]
  }
 ],
 "metadata": {
  "kernelspec": {
   "display_name": "Python 3 (ipykernel)",
   "language": "python",
   "name": "python3"
  },
  "language_info": {
   "codemirror_mode": {
    "name": "ipython",
    "version": 3
   },
   "file_extension": ".py",
   "mimetype": "text/x-python",
   "name": "python",
   "nbconvert_exporter": "python",
   "pygments_lexer": "ipython3",
   "version": "3.12.4"
  }
 },
 "nbformat": 4,
 "nbformat_minor": 5
}
