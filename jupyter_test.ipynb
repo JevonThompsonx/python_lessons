{
 "cells": [
  {
   "cell_type": "code",
   "execution_count": 1,
   "metadata": {},
   "outputs": [
    {
     "data": {
      "text/plain": [
       "'/home/jevonx/Documents/Projects/python_lessons'"
      ]
     },
     "execution_count": 1,
     "metadata": {},
     "output_type": "execute_result"
    }
   ],
   "source": [
    "%pwd "
   ]
  },
  {
   "cell_type": "code",
   "execution_count": 3,
   "metadata": {},
   "outputs": [
    {
     "name": "stdout",
     "output_type": "stream",
     "text": [
      "/home/jevonx/Documents/Projects/python_lessons\n",
      "day10b.py\n",
      "day10c.py\n",
      "day10.py\n",
      "day11b.py\n",
      "day11.py\n",
      "day12b.py\n",
      "day12.py\n",
      "day13b.py\n",
      "day13.py\n",
      "day14.py\n",
      "day1_types.py\n",
      "day2_conditionals.py\n",
      "day3_files.py\n",
      "day4a_sorting_files.py\n",
      "day4b_dictionaries.py\n",
      "day4c_files_and_dict_count.py\n",
      "day5_tuples.py\n",
      "day6b.py\n",
      "day6_tuple2.py\n",
      "day7.py\n",
      "day8.py\n",
      "day9.py\n",
      "hello_world.py\n",
      "images\n",
      "jupyter_test.ipynb\n",
      "mbox-short.txt\n",
      "python_notes.ipynb\n",
      "random.md\n",
      "regexEx2.txt\n",
      "regexEx3.txt\n",
      "regexEx.txt\n",
      "regexSum2.txt\n",
      "regexSum.txt\n",
      "romeo.txt\n",
      "words.txt\n"
     ]
    }
   ],
   "source": [
    "%%bash \n",
    "\n",
    "pwd \n",
    "ls"
   ]
  },
  {
   "cell_type": "code",
   "execution_count": 5,
   "metadata": {},
   "outputs": [
    {
     "data": {
      "application/javascript": "\nconsole.log(\"Hello world\")\n",
      "text/plain": [
       "<IPython.core.display.Javascript object>"
      ]
     },
     "metadata": {},
     "output_type": "display_data"
    }
   ],
   "source": [
    "%%javascript \n",
    "\n",
    "console.log(\"Hello world\")"
   ]
  },
  {
   "cell_type": "code",
   "execution_count": 7,
   "metadata": {},
   "outputs": [
    {
     "data": {
      "text/html": [
       "\n",
       "<h1> Hi there </h1> \n"
      ],
      "text/plain": [
       "<IPython.core.display.HTML object>"
      ]
     },
     "metadata": {},
     "output_type": "display_data"
    }
   ],
   "source": [
    "%%html\n",
    "\n",
    "<h1> Hi there </h1> "
   ]
  },
  {
   "cell_type": "code",
   "execution_count": null,
   "metadata": {},
   "outputs": [],
   "source": []
  }
 ],
 "metadata": {
  "kernelspec": {
   "display_name": "Python 3",
   "language": "python",
   "name": "python3"
  },
  "language_info": {
   "codemirror_mode": {
    "name": "ipython",
    "version": 3
   },
   "file_extension": ".py",
   "mimetype": "text/x-python",
   "name": "python",
   "nbconvert_exporter": "python",
   "pygments_lexer": "ipython3",
   "version": "3.12.4"
  }
 },
 "nbformat": 4,
 "nbformat_minor": 2
}
