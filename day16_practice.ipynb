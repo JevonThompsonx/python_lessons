{
 "cells": [
  {
   "cell_type": "markdown",
   "id": "cc39f05e-28db-4d4c-89e1-41742cc6acf9",
   "metadata": {},
   "source": [
    "# Day16 - practice\n",
    "> As I am currently learning using [Chuck Severance](py4e.com), [The official python documentation](https://docs.python.org/3/tutorial/index.html), and [Introduction to python by Bill Lubanovic](https://www.amazon.com/Introducing-Python-Modern-Computing-Packages/dp/1449359361), I sometimes come across the need to just spend some time practicing new things I've learned by reading rather than following along so that's what this is"
   ]
  },
  {
   "cell_type": "markdown",
   "id": "01878d9a-0fd4-4a9b-9f09-e8ee995ebcd5",
   "metadata": {},
   "source": [
    "## Ternary operators"
   ]
  },
  {
   "cell_type": "markdown",
   "id": "30079876-fffd-402c-b62c-80c78a6142d4",
   "metadata": {},
   "source": [
    "These are simple if else statements written in a compact way "
   ]
  },
  {
   "cell_type": "markdown",
   "id": "21c57aaa-9db7-4645-aad1-ebc9d73e9103",
   "metadata": {},
   "source": [
    "Syntax:"
   ]
  },
  {
   "cell_type": "markdown",
   "id": "fcfdf106-2fa6-410c-a8f3-4313e1fb8f81",
   "metadata": {},
   "source": [
    "true_val *if* condition *else* false_val"
   ]
  },
  {
   "cell_type": "code",
   "execution_count": 2,
   "id": "0c011616-b5f1-4d4b-9d50-4d4178203ea5",
   "metadata": {},
   "outputs": [
    {
     "name": "stdout",
     "output_type": "stream",
     "text": [
      "The number is greater than 0\n"
     ]
    }
   ],
   "source": [
    "x = 25 \n",
    "print('The number is greater than 0' if x>0 else 'The number is not greater than 0')"
   ]
  },
  {
   "cell_type": "markdown",
   "id": "567ef9e1-7927-4ffc-ba4f-ad01e29ac161",
   "metadata": {},
   "source": [
    "That one is pretty simple. I used ternaries a lot in javascript/typescript so that doesn't require much practice"
   ]
  },
  {
   "cell_type": "markdown",
   "id": "1636afb2-e0e0-40a2-b2a1-3061551592ad",
   "metadata": {},
   "source": [
    "## Match-case"
   ]
  },
  {
   "cell_type": "markdown",
   "id": "e3f8a012-2333-43d7-9aee-bdad06ac5e59",
   "metadata": {},
   "source": [
    "This is a switch statement which is pretty much a bunch of if elif statements to simplify "
   ]
  },
  {
   "cell_type": "code",
   "execution_count": 16,
   "id": "7e9ee84d-caa5-4e49-8335-4147f5cf8486",
   "metadata": {},
   "outputs": [
    {
     "name": "stdout",
     "output_type": "stream",
     "text": [
      "X is greater than 0\n"
     ]
    }
   ],
   "source": [
    "x = '22'\n",
    "try:\n",
    "    match float(x):\n",
    "        case x if x>0:\n",
    "            print('X is greater than 0')\n",
    "        case x if x == 0:\n",
    "            print('x is just 0')\n",
    "        case x if x<0:\n",
    "            print('x is less than 0')\n",
    "        case _:\n",
    "            print('I have no idea what\\'s going on here')\n",
    "except:\n",
    "    print('yea try again')"
   ]
  },
  {
   "cell_type": "markdown",
   "id": "acf07c8a-d0fe-40a4-baf6-f089b96fb86e",
   "metadata": {},
   "source": [
    "A more useful example is checking the status of a request"
   ]
  },
  {
   "cell_type": "code",
   "execution_count": 40,
   "id": "5ffb2335-5c8f-4adf-b629-27309acdd33c",
   "metadata": {},
   "outputs": [
    {
     "name": "stdout",
     "output_type": "stream",
     "text": [
      "All good here\n",
      "<p style=\"font-size:8pt;color:#70757a\">© 2024 - <a href=\"/intl/en/policies/privacy/\">Privacy</a> - <a href=\"/intl/en/policies/terms/\">Terms</a></p>\n"
     ]
    }
   ],
   "source": [
    "import httpx \n",
    "from bs4 import BeautifulSoup as bs4\n",
    "\n",
    "request = httpx.get('https://www.google.com')\n",
    "status = request.status_code\n",
    "\n",
    "match status:\n",
    "    case 200:\n",
    "        print(\"All good here\")\n",
    "        soup = bs4(request, 'html.parser')\n",
    "        print(soup.body.p)\n",
    "    case 400:\n",
    "        print(\"oh darn. not workin\") "
   ]
  },
  {
   "cell_type": "code",
   "execution_count": null,
   "id": "5af5b60d-1e72-4d9e-a69d-3150c38979a5",
   "metadata": {},
   "outputs": [],
   "source": []
  }
 ],
 "metadata": {
  "kernelspec": {
   "display_name": "Python 3 (ipykernel)",
   "language": "python",
   "name": "python3"
  },
  "language_info": {
   "codemirror_mode": {
    "name": "ipython",
    "version": 3
   },
   "file_extension": ".py",
   "mimetype": "text/x-python",
   "name": "python",
   "nbconvert_exporter": "python",
   "pygments_lexer": "ipython3",
   "version": "3.12.4"
  }
 },
 "nbformat": 4,
 "nbformat_minor": 5
}
