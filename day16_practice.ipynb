{
 "cells": [
  {
   "cell_type": "markdown",
   "id": "cc39f05e-28db-4d4c-89e1-41742cc6acf9",
   "metadata": {},
   "source": [
    "# Day16 - practice\n",
    "> As I am currently learning using [Chuck Severance](py4e.com), [The official python documentation](https://docs.python.org/3/tutorial/index.html), and [Introduction to python by Bill Lubanovic](https://www.amazon.com/Introducing-Python-Modern-Computing-Packages/dp/1449359361), I sometimes come across the need to just spend some time practicing new things I've learned by reading rather than following along so that's what this is"
   ]
  },
  {
   "cell_type": "markdown",
   "id": "01878d9a-0fd4-4a9b-9f09-e8ee995ebcd5",
   "metadata": {},
   "source": [
    "## Ternary operators"
   ]
  },
  {
   "cell_type": "markdown",
   "id": "30079876-fffd-402c-b62c-80c78a6142d4",
   "metadata": {},
   "source": [
    "These are simple if else statements written in a compact way "
   ]
  },
  {
   "cell_type": "markdown",
   "id": "21c57aaa-9db7-4645-aad1-ebc9d73e9103",
   "metadata": {},
   "source": [
    "Syntax:"
   ]
  },
  {
   "cell_type": "markdown",
   "id": "fcfdf106-2fa6-410c-a8f3-4313e1fb8f81",
   "metadata": {},
   "source": [
    "true_val *if* condition *else* false_val"
   ]
  },
  {
   "cell_type": "code",
   "execution_count": 2,
   "id": "0c011616-b5f1-4d4b-9d50-4d4178203ea5",
   "metadata": {},
   "outputs": [
    {
     "name": "stdout",
     "output_type": "stream",
     "text": [
      "The number is greater than 0\n"
     ]
    }
   ],
   "source": [
    "x = 25 \n",
    "print('The number is greater than 0' if x>0 else 'The number is not greater than 0')"
   ]
  },
  {
   "cell_type": "markdown",
   "id": "567ef9e1-7927-4ffc-ba4f-ad01e29ac161",
   "metadata": {},
   "source": [
    "That one is pretty simple. I used ternaries a lot in javascript/typescript so that doesn't require much practice"
   ]
  },
  {
   "cell_type": "markdown",
   "id": "1636afb2-e0e0-40a2-b2a1-3061551592ad",
   "metadata": {},
   "source": [
    "## Match-case"
   ]
  },
  {
   "cell_type": "markdown",
   "id": "e3f8a012-2333-43d7-9aee-bdad06ac5e59",
   "metadata": {},
   "source": [
    "This is a switch statement which is pretty much a bunch of if elif statements to simplify "
   ]
  },
  {
   "cell_type": "code",
   "execution_count": 16,
   "id": "7e9ee84d-caa5-4e49-8335-4147f5cf8486",
   "metadata": {},
   "outputs": [
    {
     "name": "stdout",
     "output_type": "stream",
     "text": [
      "X is greater than 0\n"
     ]
    }
   ],
   "source": [
    "x = '22'\n",
    "try:\n",
    "    match float(x):\n",
    "        case x if x>0:\n",
    "            print('X is greater than 0')\n",
    "        case x if x == 0:\n",
    "            print('x is just 0')\n",
    "        case x if x<0:\n",
    "            print('x is less than 0')\n",
    "        case _:\n",
    "            print('I have no idea what\\'s going on here')\n",
    "except:\n",
    "    print('yea try again')"
   ]
  },
  {
   "cell_type": "markdown",
   "id": "acf07c8a-d0fe-40a4-baf6-f089b96fb86e",
   "metadata": {},
   "source": [
    "A more useful example is checking the status of a request"
   ]
  },
  {
   "cell_type": "code",
   "execution_count": 61,
   "id": "5ffb2335-5c8f-4adf-b629-27309acdd33c",
   "metadata": {},
   "outputs": [
    {
     "name": "stdout",
     "output_type": "stream",
     "text": [
      "All good here\n",
      "[<p style=\"font-size:8pt;color:#70757a\">© 2024 - <a href=\"/intl/en/policies/privacy/\">Privacy</a> - <a href=\"/intl/en/policies/terms/\">Terms</a></p>]\n"
     ]
    }
   ],
   "source": [
    "import httpx \n",
    "from bs4 import BeautifulSoup as bs4\n",
    "\n",
    "request = httpx.get('https://www.google.com')\n",
    "status = request.status_code\n",
    "\n",
    "match status:\n",
    "    case 200:\n",
    "        print(\"All good here\")\n",
    "        soup = bs4(request, 'html.parser')\n",
    "        #print(dir(soup))\n",
    "        print(soup.select('p'))\n",
    "    case 400:\n",
    "        print(\"oh darn. not workin\") "
   ]
  },
  {
   "cell_type": "markdown",
   "id": "be9863ce-c654-46a3-bad1-bc4dcdf8a49d",
   "metadata": {},
   "source": [
    "## Sets\n",
    "> Python's way of organizing single appearing data in a collection. A set functions like a cross between a list and dictionary. It can also be thought of as a stripped dictionary\n",
    ">\n",
    "> These sets are often used as member verification"
   ]
  },
  {
   "cell_type": "markdown",
   "id": "24fb7362-dfb6-43b2-90ec-ee9bb666a138",
   "metadata": {},
   "source": [
    "Syntax:"
   ]
  },
  {
   "cell_type": "code",
   "execution_count": 62,
   "id": "78d19a40-03f7-4f90-836e-5b198071176b",
   "metadata": {},
   "outputs": [
    {
     "name": "stdout",
     "output_type": "stream",
     "text": [
      "{'here', 'values', 'set'}\n"
     ]
    }
   ],
   "source": [
    "setName = {'set', 'values','here'}\n",
    "print(setName)"
   ]
  },
  {
   "cell_type": "markdown",
   "id": "95813fc5-9953-4300-9688-a5e555b77247",
   "metadata": {},
   "source": [
    "Empty set:"
   ]
  },
  {
   "cell_type": "code",
   "execution_count": 65,
   "id": "72a6d5b2-3378-48a1-a512-3f4daf6ff304",
   "metadata": {},
   "outputs": [
    {
     "name": "stdout",
     "output_type": "stream",
     "text": [
      "set()\n"
     ]
    }
   ],
   "source": [
    "setName = set()\n",
    "print(setName)"
   ]
  },
  {
   "cell_type": "markdown",
   "id": "4732d7d5-a52d-461f-bb0d-c20d068fb896",
   "metadata": {},
   "source": [
    "- Empty sets are defined with ``set`` instead of ``{}`` because that would make an empty dictionary instead and dictionaries being made first already laid claim to ``{}`` "
   ]
  },
  {
   "cell_type": "markdown",
   "id": "7aeb834b-0ff4-4335-b5c2-14e32a7e13ba",
   "metadata": {},
   "source": [
    "Combining sets"
   ]
  },
  {
   "cell_type": "code",
   "execution_count": 75,
   "id": "eb2a03ea-9759-4ec8-b8aa-80fe077e094f",
   "metadata": {},
   "outputs": [
    {
     "name": "stdout",
     "output_type": "stream",
     "text": [
      "set 3: {'jane', 'tiffany', 'jeremy', 'cindy', 'cara'}\n",
      "set 4: {'jane', 'tiffany', 'jeremy', 'cindy', 'cara'}\n",
      "updated set 1: {'jane', 'tiffany', 'jeremy', 'cindy', 'cara'}\n"
     ]
    }
   ],
   "source": [
    "set1 = {'jeremy','cindy','jane'}\n",
    "set2 = {'cara','tiffany'}\n",
    "\n",
    "set3 = set1.union(set2)\n",
    "print(f'set 3: {set3}')\n",
    "\n",
    "# or \n",
    "\n",
    "set4 = set1 | set2 # union operator\n",
    "print(f'set 4: {set4}')\n",
    "\n",
    "# or \n",
    "set1.update(set2)\n",
    "print(f'updated set 1: {set1}')\n",
    "# but it's always better to do copies so I prob wouldn't do this tbh\n"
   ]
  },
  {
   "cell_type": "markdown",
   "id": "91d48de5-2a38-46d4-bb1d-d94b32fe030b",
   "metadata": {},
   "source": [
    "## Lambda practice"
   ]
  },
  {
   "cell_type": "code",
   "execution_count": 90,
   "id": "be597993-88ff-4f49-b392-52295d5fb442",
   "metadata": {},
   "outputs": [
    {
     "name": "stdout",
     "output_type": "stream",
     "text": [
      "{2, 4, 6, 68}\n",
      "{1089, 4, 36, 9, 16, 49, 4624, 25}\n",
      "{33, 2, 3, 4, 5, 6, 7, 68, 'jeremy', 'baker', 'cindy'}\n"
     ]
    }
   ],
   "source": [
    "set1 = {2,4,7,6,3,5,68,33}\n",
    "\n",
    "filtered_set1 = set(filter(lambda x:x%2==0,set1))\n",
    "print(filtered_set1)\n",
    "mapped_to_pow = set(map(lambda x:x**2,set1))\n",
    "print(mapped_to_pow)\n",
    "set2 = {'cindy','jeremy','baker'}\n",
    "set3 = set1 | set2 \n",
    "print(set3)"
   ]
  },
  {
   "cell_type": "code",
   "execution_count": null,
   "id": "a88e1923-8372-4024-ac51-298fa95e0a5c",
   "metadata": {},
   "outputs": [],
   "source": []
  }
 ],
 "metadata": {
  "kernelspec": {
   "display_name": "Python 3 (ipykernel)",
   "language": "python",
   "name": "python3"
  },
  "language_info": {
   "codemirror_mode": {
    "name": "ipython",
    "version": 3
   },
   "file_extension": ".py",
   "mimetype": "text/x-python",
   "name": "python",
   "nbconvert_exporter": "python",
   "pygments_lexer": "ipython3",
   "version": "3.12.4"
  }
 },
 "nbformat": 4,
 "nbformat_minor": 5
}
