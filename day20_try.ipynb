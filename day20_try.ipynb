{
 "cells": [
  {
   "cell_type": "markdown",
   "id": "7b227cc5-6841-4bcc-b0b8-89665bab2953",
   "metadata": {},
   "source": [
    "# Review"
   ]
  },
  {
   "cell_type": "markdown",
   "id": "436ecc2c-51e1-4899-b573-6408237fb05d",
   "metadata": {},
   "source": [
    "Here I can review a good amount of the things that I've been learning abt in my spare time but haven't as much had time to go over in code. I'm low on energy so I'll stick to just classes tho I'm pretty sure I have what I need to know down"
   ]
  },
  {
   "cell_type": "code",
   "execution_count": 43,
   "id": "82306c11-f44d-49c2-bb3e-05e97837bdea",
   "metadata": {},
   "outputs": [
    {
     "name": "stdout",
     "output_type": "stream",
     "text": [
      "My name is Debbie\n",
      "My birthday is: 8/26/2024\n",
      "Kit says meeeowww\n"
     ]
    }
   ],
   "source": [
    "import time\n",
    "class Animal():\n",
    "    def __init__(self,name:str):\n",
    "        birthday = time.localtime()\n",
    "        self.name = name\n",
    "        self.birthday = f\"{birthday.tm_mon}/{birthday.tm_mday}/{birthday.tm_year}\"\n",
    "    def speak(self):\n",
    "        print(f'My name is {self.name}')\n",
    "        print(f'My birthday is: {self.birthday}')\n",
    "\n",
    "class Dog(Animal):\n",
    "    def __init__(self,**kargs):\n",
    "        super().__init__(**kargs)\n",
    "\n",
    "class Cat(Animal):\n",
    "    def __init__(self,**kargs):\n",
    "        super().__init__(**kargs)\n",
    "    def meow(self):\n",
    "        print(f'{self.name} says meeeowww')\n",
    "\n",
    "debbie = Dog(name = 'Debbie')\n",
    "kit = Cat(name = 'Kit')\n",
    "debbie.speak()\n",
    "kit.meow()\n"
   ]
  },
  {
   "cell_type": "markdown",
   "id": "58876462-2594-4061-a636-93f555fe8f5f",
   "metadata": {},
   "source": [
    "I think that's about enough for now. Based on what I read that covers the important stuff. I'll come back to classes later ofc bc I still have 2 of my few learning tools that I haven't gone through the ``class`` section of but for now this is great"
   ]
  },
  {
   "cell_type": "code",
   "execution_count": null,
   "id": "a7bf65c9-04a7-40c0-b12a-419574421ffd",
   "metadata": {},
   "outputs": [],
   "source": []
  }
 ],
 "metadata": {
  "kernelspec": {
   "display_name": "Python 3 (ipykernel)",
   "language": "python",
   "name": "python3"
  },
  "language_info": {
   "codemirror_mode": {
    "name": "ipython",
    "version": 3
   },
   "file_extension": ".py",
   "mimetype": "text/x-python",
   "name": "python",
   "nbconvert_exporter": "python",
   "pygments_lexer": "ipython3",
   "version": "3.12.5"
  }
 },
 "nbformat": 4,
 "nbformat_minor": 5
}
