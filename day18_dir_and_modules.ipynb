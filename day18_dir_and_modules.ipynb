{
 "cells": [
  {
   "cell_type": "markdown",
   "id": "f9fcec95-74f4-4438-bdce-d4e60811db8b",
   "metadata": {},
   "source": [
    "# Day 18 \n",
    "> Time to practice what I'm learning from the python docs"
   ]
  },
  {
   "cell_type": "markdown",
   "id": "85476e74-cc17-4b6d-89f4-129efb29f26c",
   "metadata": {},
   "source": [
    "# ``dir(arg)`` func"
   ]
  },
  {
   "cell_type": "markdown",
   "id": "da54a4d2-af08-4e20-86fd-20eb4f6f9d95",
   "metadata": {},
   "source": [
    "The ``dir`` function is a builtin function of python(also exists in other langs like javascript) used to provide attached methods of given class. For example using it on a string will give string methods, using it on a integer/float will give methods attached to numbers, using it on dictionaries will give dictionary methods and using it on modules will give functions attached to said module"
   ]
  },
  {
   "cell_type": "code",
   "execution_count": 3,
   "id": "2e8ad6c6-f74a-4c42-bc11-3a230f1739f1",
   "metadata": {},
   "outputs": [
    {
     "name": "stdout",
     "output_type": "stream",
     "text": [
      "['ArithmeticError', 'AssertionError', 'AttributeError', 'BaseException', 'BaseExceptionGroup', 'BlockingIOError', 'BrokenPipeError', 'BufferError', 'BytesWarning', 'ChildProcessError', 'ConnectionAbortedError', 'ConnectionError', 'ConnectionRefusedError', 'ConnectionResetError', 'DeprecationWarning', 'EOFError', 'Ellipsis', 'EncodingWarning', 'EnvironmentError', 'Exception', 'ExceptionGroup', 'False', 'FileExistsError', 'FileNotFoundError', 'FloatingPointError', 'FutureWarning', 'GeneratorExit', 'IOError', 'ImportError', 'ImportWarning', 'IndentationError', 'IndexError', 'InterruptedError', 'IsADirectoryError', 'KeyError', 'KeyboardInterrupt', 'LookupError', 'MemoryError', 'ModuleNotFoundError', 'NameError', 'None', 'NotADirectoryError', 'NotImplemented', 'NotImplementedError', 'OSError', 'OverflowError', 'PendingDeprecationWarning', 'PermissionError', 'ProcessLookupError', 'RecursionError', 'ReferenceError', 'ResourceWarning', 'RuntimeError', 'RuntimeWarning', 'StopAsyncIteration', 'StopIteration', 'SyntaxError', 'SyntaxWarning', 'SystemError', 'SystemExit', 'TabError', 'TimeoutError', 'True', 'TypeError', 'UnboundLocalError', 'UnicodeDecodeError', 'UnicodeEncodeError', 'UnicodeError', 'UnicodeTranslateError', 'UnicodeWarning', 'UserWarning', 'ValueError', 'Warning', 'ZeroDivisionError', '__IPYTHON__', '__build_class__', '__debug__', '__doc__', '__import__', '__loader__', '__name__', '__package__', '__spec__', 'abs', 'aiter', 'all', 'anext', 'any', 'ascii', 'bin', 'bool', 'breakpoint', 'bytearray', 'bytes', 'callable', 'chr', 'classmethod', 'compile', 'complex', 'copyright', 'credits', 'delattr', 'dict', 'dir', 'display', 'divmod', 'enumerate', 'eval', 'exec', 'execfile', 'filter', 'float', 'format', 'frozenset', 'get_ipython', 'getattr', 'globals', 'hasattr', 'hash', 'help', 'hex', 'id', 'input', 'int', 'isinstance', 'issubclass', 'iter', 'len', 'license', 'list', 'locals', 'map', 'max', 'memoryview', 'min', 'next', 'object', 'oct', 'open', 'ord', 'pow', 'print', 'property', 'range', 'repr', 'reversed', 'round', 'runfile', 'set', 'setattr', 'slice', 'sorted', 'staticmethod', 'str', 'sum', 'super', 'tuple', 'type', 'vars', 'zip']\n"
     ]
    }
   ],
   "source": [
    "import builtins\n",
    "print(dir(builtins))"
   ]
  },
  {
   "cell_type": "markdown",
   "id": "699b696a-2800-4090-85b7-b5ccd9939dc0",
   "metadata": {},
   "source": [
    "## Dir w/o argument"
   ]
  },
  {
   "cell_type": "markdown",
   "id": "baa94c17-3b6c-4c69-82e5-e08c4662e66e",
   "metadata": {},
   "source": [
    "Using it w/o an argument just prints currently defined names of all types"
   ]
  },
  {
   "cell_type": "code",
   "execution_count": 5,
   "id": "3fe13830-4be0-4947-b50f-02f4b653c209",
   "metadata": {},
   "outputs": [
    {
     "data": {
      "text/plain": [
       "['In',\n",
       " 'Out',\n",
       " '_',\n",
       " '_4',\n",
       " '__',\n",
       " '___',\n",
       " '__builtin__',\n",
       " '__builtins__',\n",
       " '__doc__',\n",
       " '__loader__',\n",
       " '__name__',\n",
       " '__package__',\n",
       " '__session__',\n",
       " '__spec__',\n",
       " '_dh',\n",
       " '_i',\n",
       " '_i1',\n",
       " '_i2',\n",
       " '_i3',\n",
       " '_i4',\n",
       " '_i5',\n",
       " '_ih',\n",
       " '_ii',\n",
       " '_iii',\n",
       " '_oh',\n",
       " 'builtins',\n",
       " 'exit',\n",
       " 'get_ipython',\n",
       " 'open',\n",
       " 'quit',\n",
       " 'x',\n",
       " 'y',\n",
       " 'z']"
      ]
     },
     "execution_count": 5,
     "metadata": {},
     "output_type": "execute_result"
    }
   ],
   "source": [
    "x,y,z = 2, 'henlo', lambda x: print(x)\n",
    "\n",
    "dir()"
   ]
  },
  {
   "cell_type": "markdown",
   "id": "3aba7a24-d96d-45cc-a583-5b41848b1904",
   "metadata": {},
   "source": [
    "It's important to consider nesting w/ packages. Modules can house many packaged methods. These nested packages are a lot and need a special consideration if using ``from <module> import *`` "
   ]
  },
  {
   "cell_type": "markdown",
   "id": "3505f0dc-4d70-4ad9-9223-eccd9dd05c95",
   "metadata": {},
   "source": [
    "The considerations are:\n",
    "1. Don't\n",
    "2. If you do, check if the ``__init__ `` files of the code houses a ``__all__`` variable. This defines all the functions that are imported when using ``from <module> import *``\n",
    "> This is created and maintained by the creator of the module so there may not be one at all or it may be out of date"
   ]
  },
  {
   "cell_type": "code",
   "execution_count": 8,
   "id": "55450462-a1af-44c7-9cef-7e7e97b834ce",
   "metadata": {},
   "outputs": [
    {
     "data": {
      "text/plain": [
       "['In',\n",
       " 'Out',\n",
       " '_',\n",
       " '_4',\n",
       " '_5',\n",
       " '__',\n",
       " '___',\n",
       " '__builtin__',\n",
       " '__builtins__',\n",
       " '__doc__',\n",
       " '__loader__',\n",
       " '__name__',\n",
       " '__package__',\n",
       " '__session__',\n",
       " '__spec__',\n",
       " '_dh',\n",
       " '_i',\n",
       " '_i1',\n",
       " '_i2',\n",
       " '_i3',\n",
       " '_i4',\n",
       " '_i5',\n",
       " '_i6',\n",
       " '_i7',\n",
       " '_i8',\n",
       " '_ih',\n",
       " '_ii',\n",
       " '_iii',\n",
       " '_oh',\n",
       " 'builtins',\n",
       " 'exit',\n",
       " 'get_ipython',\n",
       " 'greet',\n",
       " 'greet_with_own_name',\n",
       " 'greeting_mods',\n",
       " 'open',\n",
       " 'quit',\n",
       " 'x',\n",
       " 'y',\n",
       " 'z']"
      ]
     },
     "execution_count": 8,
     "metadata": {},
     "output_type": "execute_result"
    }
   ],
   "source": [
    "from mods.greeting_mods import * \n",
    "dir()"
   ]
  },
  {
   "cell_type": "markdown",
   "id": "e6b36cd7-9533-4fe3-856a-df475e57bada",
   "metadata": {},
   "source": [
    "After defining the ``__all__`` in the ``__init__`` for greeting mods the functions that should be imported show up after using ``dir()``, highlighting that those were called by the import. Using * imports should still be avoided though"
   ]
  },
  {
   "cell_type": "markdown",
   "id": "79ab6d36-3eaf-4ea7-b9de-03b84bbf1dc5",
   "metadata": {},
   "source": [
    "## Parent/Sibling imports\n",
    "Python supports using dots(. , .. , ..name) to import relatively "
   ]
  },
  {
   "cell_type": "markdown",
   "id": "7b302355-8c9f-434e-8fdc-c3b9ee20905e",
   "metadata": {},
   "source": [
    ">from . import echo\n",
    "> \n",
    ">from .. import formats\n",
    ">\n",
    ">from ..filters import equalizer"
   ]
  },
  {
   "cell_type": "markdown",
   "id": "ae1f21af-554b-465f-9231-37f2533a685a",
   "metadata": {},
   "source": [
    "This should not be done in the main module of a package. Those require absolute imports"
   ]
  }
 ],
 "metadata": {
  "kernelspec": {
   "display_name": "Python 3 (ipykernel)",
   "language": "python",
   "name": "python3"
  },
  "language_info": {
   "codemirror_mode": {
    "name": "ipython",
    "version": 3
   },
   "file_extension": ".py",
   "mimetype": "text/x-python",
   "name": "python",
   "nbconvert_exporter": "python",
   "pygments_lexer": "ipython3",
   "version": "3.12.4"
  }
 },
 "nbformat": 4,
 "nbformat_minor": 5
}
