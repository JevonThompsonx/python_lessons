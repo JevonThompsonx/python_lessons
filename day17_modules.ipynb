{
 "cells": [
  {
   "cell_type": "markdown",
   "id": "0399e4ef-9c2c-4d73-83c3-fe0009db48f7",
   "metadata": {
    "editable": true,
    "slideshow": {
     "slide_type": ""
    },
    "tags": []
   },
   "source": [
    "# Day 17\n",
    "> Modules in python"
   ]
  },
  {
   "cell_type": "markdown",
   "id": "abfdf313-cbdb-4f73-9ccf-46fb9228ba18",
   "metadata": {},
   "source": [
    "I'm aware some of this is backwards in the order I learn them daily.I keep notes here as well as in notion so I've noticed in my notion databse which is organized top to bottom in terms on the order I would normally learn these things how backwards this is. It's because I've been adjusting my learning tools and sticking with catching up with the tools I'm currently using. (py4e)[py4e.com] is a great learning resource but it doesn't give me as much information as I think I need. I have gone outside of it to supplement my learning many times now so I decided to read a dedicated book about python as well as reading the docs which has been tremendously helpful in pointing out gaps in that knowledge. Anyways I expect much of today to be about putting in practice what I learned about modules so that's the reason for the world salad. "
   ]
  },
  {
   "cell_type": "code",
   "execution_count": 1,
   "id": "8a2fad14-8a50-4a89-9d16-a93023a94786",
   "metadata": {},
   "outputs": [
    {
     "name": "stdout",
     "output_type": "stream",
     "text": [
      "5\n",
      "0\n",
      "3.5\n",
      "45\n"
     ]
    }
   ],
   "source": [
    "from mods.math import add, subtract, divide, multiply\n",
    "print(add(2,3))\n",
    "print(subtract(2,2))\n",
    "print(divide(7,2))\n",
    "print(multiply(9,5))"
   ]
  },
  {
   "cell_type": "markdown",
   "id": "2d1adc4d-b895-4cdc-8b26-772a37698ffb",
   "metadata": {},
   "source": [
    "This is a basic example of importing a created module in python. The modules are stored in a folder than needs to contain a ``__init__.py`` file to be considered a module. The entire module can be imported like so ``import mods`` or individual functions can be imported like done above ``from mods.math import add, subtract, divide, multiply``\n",
    "\n",
    "Doing it the second way adds select variables to the current file. All variables can be imported this way ``from mods.math import *`` but this should never be done because that can cause errors unaccounted for"
   ]
  },
  {
   "cell_type": "markdown",
   "id": "ee9a11cf-65da-43ce-a2b1-c7f9059bfd1c",
   "metadata": {},
   "source": [
    "Modules can also be nested into folders that also contain ``__init.py`` files if needed for classification, organization or anything else"
   ]
  },
  {
   "cell_type": "code",
   "execution_count": 2,
   "id": "e18bd325-c7d1-4b3a-bc14-07699c9aa874",
   "metadata": {},
   "outputs": [
    {
     "name": "stdout",
     "output_type": "stream",
     "text": [
      "Hello there Billy\n",
      "hello sarah. My name is Bob\n"
     ]
    }
   ],
   "source": [
    "from mods.greeting_mods import greet, greet_with_own_name as greet2\n",
    "\n",
    "greet.greet('Billy')\n",
    "greet2.greet_with_own_name('sarah')"
   ]
  },
  {
   "cell_type": "markdown",
   "id": "4fbadadf-0979-46a3-accd-1633ca5829a9",
   "metadata": {},
   "source": [
    "This is how you would nest and access nested modules. Ofc these examples look stupid but you(me) get the idea"
   ]
  },
  {
   "cell_type": "code",
   "execution_count": null,
   "id": "8d0e8cd9-8fde-42c4-a00a-5ae11543a4c6",
   "metadata": {},
   "outputs": [],
   "source": []
  }
 ],
 "metadata": {
  "kernelspec": {
   "display_name": "Python 3 (ipykernel)",
   "language": "python",
   "name": "python3"
  },
  "language_info": {
   "codemirror_mode": {
    "name": "ipython",
    "version": 3
   },
   "file_extension": ".py",
   "mimetype": "text/x-python",
   "name": "python",
   "nbconvert_exporter": "python",
   "pygments_lexer": "ipython3",
   "version": "3.12.4"
  }
 },
 "nbformat": 4,
 "nbformat_minor": 5
}
