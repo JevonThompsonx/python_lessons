{
 "cells": [
  {
   "cell_type": "markdown",
   "metadata": {},
   "source": [
    "# Basics "
   ]
  },
  {
   "cell_type": "markdown",
   "metadata": {},
   "source": [
    "## Basics of a computer"
   ]
  },
  {
   "cell_type": "markdown",
   "metadata": {},
   "source": [
    "![Hardware architecture of a computer](./images/computer_basics.jpeg)"
   ]
  },
  {
   "cell_type": "markdown",
   "metadata": {},
   "source": [
    "### CPU"
   ]
  },
  {
   "cell_type": "markdown",
   "metadata": {},
   "source": [
    "- Computer brain \n",
    "- Built to think as fast as rated \n",
    "  - ex: 3.0ghz means thinking 3 billion times per second "
   ]
  },
  {
   "cell_type": "markdown",
   "metadata": {},
   "source": [
    "## Main Memory (Ram)"
   ]
  },
  {
   "cell_type": "markdown",
   "metadata": {},
   "source": [
    "- Memory that computer needs quickly \n",
    "- Disappears when computer is off\n",
    "- Can be considered short term memory \n",
    "- About as fast as the CPU"
   ]
  },
  {
   "cell_type": "markdown",
   "metadata": {},
   "source": [
    "## Input and Output devices\n"
   ]
  },
  {
   "cell_type": "markdown",
   "metadata": {},
   "source": [
    "- Devices used to interact with computer\n",
    "  - ex: mouse, keyboard, screen, speakers etc.."
   ]
  },
  {
   "cell_type": "markdown",
   "metadata": {},
   "source": [
    "## Writing programs "
   ]
  },
  {
   "cell_type": "markdown",
   "metadata": {},
   "source": [
    "- python file ends in .py \n",
    "- jupyter notebook file ends in .ipynb\n",
    "- To run a program file call *the interpreter* w/ the **name of the program** to tell it what file to interpret \n",
    "  - *python* **hello_world.py**"
   ]
  },
  {
   "cell_type": "markdown",
   "metadata": {},
   "source": [
    "## Interpreted vs compiled languages "
   ]
  },
  {
   "cell_type": "markdown",
   "metadata": {},
   "source": [
    "- Interpreted languages can run immediately when created\n",
    "- Compiled languages need to run an entire file then transmute into a low level language- machine code to be ran later\n",
    "- python 🐍  is an interpreted language\n",
    "- The interpreter for 🐍 is written in C"
   ]
  },
  {
   "cell_type": "markdown",
   "metadata": {},
   "source": [
    "## Reserved words "
   ]
  },
  {
   "cell_type": "markdown",
   "metadata": {},
   "source": [
    "|           |conditions |exceptions |Logical    |       |Booleas |Func   |Async  |\n",
    "|-----------|-----------|-----------|-----------|-------|--------|-------|-------|\n",
    "|from       |if         |try        |           |import |False   |def    |await  |\n",
    "|           |elif       |except     |in         |       |True    |       |async  |\n",
    "|None       |class      |finally    |is         |global |        |       |       |\n",
    "|lambda     |for        |del        |as         |       |        |       |       |\n",
    "|nonlocal   |while      |pass       |and        |       |        |       |       |\n",
    "|assert     |continue   |return     |not        |with   |        |       |       |\n",
    "|           |break      |raise      |or         |yield  |        |       |       |\n",
    "|           |           |except     |           |       |        |       |       |"
   ]
  },
  {
   "cell_type": "markdown",
   "metadata": {},
   "source": [
    "Note "
   ]
  },
  {
   "cell_type": "markdown",
   "metadata": {},
   "source": [
    "Leaving a python program: ``quit()``"
   ]
  }
 ],
 "metadata": {
  "kernelspec": {
   "display_name": "Python 3",
   "language": "python",
   "name": "python3"
  },
  "language_info": {
   "codemirror_mode": {
    "name": "ipython",
    "version": 3
   },
   "file_extension": ".py",
   "mimetype": "text/x-python",
   "name": "python",
   "nbconvert_exporter": "python",
   "pygments_lexer": "ipython3",
   "version": "3.12.4"
  }
 },
 "nbformat": 4,
 "nbformat_minor": 2
}
