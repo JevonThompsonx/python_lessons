{
 "cells": [
  {
   "cell_type": "markdown",
   "metadata": {},
   "source": [
    "# Day 14 of learning python"
   ]
  },
  {
   "cell_type": "markdown",
   "metadata": {},
   "source": [
    "> w/ the jupyter notebook this time"
   ]
  },
  {
   "cell_type": "markdown",
   "metadata": {},
   "source": [
    "## Web services"
   ]
  },
  {
   "cell_type": "markdown",
   "metadata": {},
   "source": [
    "Here is my first jupy notebook project"
   ]
  },
  {
   "cell_type": "markdown",
   "metadata": {},
   "source": [
    "This is feeling a lot better than the vscode version already. Love me some buttery smooth typing"
   ]
  },
  {
   "cell_type": "markdown",
   "metadata": {},
   "source": [
    "## Sending data across the \"Net\""
   ]
  },
  {
   "cell_type": "markdown",
   "metadata": {},
   "source": [
    "- Sending data to the web is cross *serializing*\n",
    "- Recieving the data is called *deserializing* it"
   ]
  },
  {
   "cell_type": "markdown",
   "metadata": {},
   "source": [
    "XML and JSON are the most common ways of sending data across the web "
   ]
  },
  {
   "cell_type": "markdown",
   "metadata": {},
   "source": [
    "### XML "
   ]
  },
  {
   "cell_type": "markdown",
   "metadata": {},
   "source": [
    "> Extensive Markuup language"
   ]
  },
  {
   "cell_type": "markdown",
   "metadata": {},
   "source": [
    "- Primary purpose was to share data across the web"
   ]
  },
  {
   "cell_type": "markdown",
   "metadata": {},
   "source": [
    "#### Terminology"
   ]
  },
  {
   "cell_type": "markdown",
   "metadata": {},
   "source": [
    "- **Tags** indicate beginning and ending of elements\n",
    "- **Attributes** key:value pairs on the opening tag of the XML\n",
    "    - Like HTML\n",
    "- **Serialize/Deserialize** Converting data in one program to a common format to be stored and/or transmitted between systems "
   ]
  },
  {
   "cell_type": "code",
   "execution_count": 3,
   "metadata": {},
   "outputs": [
    {
     "data": {
      "text/html": [
       "\n",
       "<person> \n",
       "    <name> Jevon </name>\n",
       "    <phone type=\"intl\">\n",
       "        +1 848 223 9204\n",
       "    </phone>\n",
       "</person>\n"
      ],
      "text/plain": [
       "<IPython.core.display.HTML object>"
      ]
     },
     "metadata": {},
     "output_type": "display_data"
    }
   ],
   "source": [
    "%%html\n",
    "\n",
    "<person> \n",
    "    <name> Jevon </name>\n",
    "    <phone type=\"intl\">\n",
    "        +1 848 223 9204\n",
    "    </phone>\n",
    "</person>"
   ]
  },
  {
   "cell_type": "markdown",
   "metadata": {},
   "source": [
    "- Xml doesn't care abt whitespace but it makes it readable"
   ]
  },
  {
   "cell_type": "markdown",
   "metadata": {},
   "source": [
    "##### \"Elements\" or Nodes"
   ]
  },
  {
   "cell_type": "markdown",
   "metadata": {},
   "source": [
    "- Can be thought of as a tree w/ parent child relationships "
   ]
  },
  {
   "cell_type": "markdown",
   "metadata": {},
   "source": [
    "![Xml tree](https://beginnersbook.com/wp-content/uploads/2018/10/xml_tree.jpg)"
   ]
  },
  {
   "cell_type": "markdown",
   "metadata": {},
   "source": [
    "- I honestly will not be using xml ever so I'm skipping this"
   ]
  },
  {
   "cell_type": "markdown",
   "metadata": {},
   "source": [
    "### JSON "
   ]
  },
  {
   "cell_type": "markdown",
   "metadata": {},
   "source": [
    "> Javascript Object Notation"
   ]
  },
  {
   "cell_type": "markdown",
   "metadata": {},
   "source": [
    "- More common than xml\n",
    "- Mostly used to transfer data across the web and programming languages"
   ]
  },
  {
   "cell_type": "code",
   "execution_count": null,
   "metadata": {},
   "outputs": [],
   "source": [
    "{\n",
    "  \"menu\": {\n",
    "    \"id\": \"file\",\n",
    "    \"value\": \"File\",\n",
    "    \"popup\": {\n",
    "      \"menuitem\": [\n",
    "        {\"value\": \"New\", \"onclick\": \"CreateNewDoc()\"},\n",
    "        {\"value\": \"Open\", \"onclick\": \"OpenDoc()\"},\n",
    "        {\"value\": \"Close\", \"onclick\": \"CloseDoc()\"}\n",
    "      ]\n",
    "    }\n",
    "  }\n",
    "}"
   ]
  },
  {
   "cell_type": "markdown",
   "metadata": {},
   "source": [
    "- Very similar to python dictionaries/javascript objects"
   ]
  },
  {
   "cell_type": "code",
   "execution_count": 18,
   "metadata": {},
   "outputs": [
    {
     "name": "stdout",
     "output_type": "stream",
     "text": [
      "Here is the full menu: {'id': 'id here', 'value': 'value here omg'}\n",
      "Just the id: id here\n"
     ]
    }
   ],
   "source": [
    "# Loading json\n",
    "import json \n",
    "\n",
    "data = '''{\n",
    "  \"menu\": {\n",
    "    \"id\": \"id here\",\n",
    "    \"value\": \"value here omg\"\n",
    "    }\n",
    "  }'''\n",
    "\n",
    "loaded_data = json.loads(data)\n",
    "print(f'Here is the full menu: {loaded_data['menu']}')\n",
    "print(f'Just the id: {loaded_data['menu']['id']}')\n"
   ]
  },
  {
   "cell_type": "markdown",
   "metadata": {},
   "source": [
    "``json.loads`` Takes a string and converts it into a json object which for __python__ will turn it into a **dictionary**"
   ]
  },
  {
   "cell_type": "markdown",
   "metadata": {},
   "source": [
    "<mark>Skipping the rest bc I've used json w/ javascript before and a bit w/ python to test it out and I think I got the idea</mark>"
   ]
  },
  {
   "cell_type": "markdown",
   "metadata": {},
   "source": [
    "## Service Oriented Approach"
   ]
  },
  {
   "cell_type": "markdown",
   "metadata": {},
   "source": [
    "> Some web services are just *services*, making their primary job to be a single use *service* that other apps or services can take advantage of. A parent *service* can be used to manage multiple services or to make a more user friendly interface for the underlying service\n",
    "\n",
    "> APIs are an example of this"
   ]
  },
  {
   "cell_type": "markdown",
   "metadata": {},
   "source": [
    "### API \n",
    "> Application program interface"
   ]
  },
  {
   "cell_type": "markdown",
   "metadata": {},
   "source": [
    "- More popular APIs usually aren't free\n",
    "    - usually requires an account\n",
    "    - is free up to a certain point (usually monthly)\n",
    "    - protects the company from ppl overusing their hard work w/o any benefit "
   ]
  }
 ],
 "metadata": {
  "kernelspec": {
   "display_name": "Python 3 (ipykernel)",
   "language": "python",
   "name": "python3"
  },
  "language_info": {
   "codemirror_mode": {
    "name": "ipython",
    "version": 3
   },
   "file_extension": ".py",
   "mimetype": "text/x-python",
   "name": "python",
   "nbconvert_exporter": "python",
   "pygments_lexer": "ipython3",
   "version": "3.12.4"
  }
 },
 "nbformat": 4,
 "nbformat_minor": 4
}
