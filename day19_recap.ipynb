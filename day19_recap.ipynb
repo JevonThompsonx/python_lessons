{
 "cells": [
  {
   "cell_type": "markdown",
   "id": "6b6fb5f4-0b9e-4730-b205-ee10709f858c",
   "metadata": {},
   "source": [
    "# Recap\n",
    "> I am about to potentially endeavour to learn both python and rust at the same time. I have a good understanding of basic python by now and am looking forward to building with it but I figure it'd be good to future proof w/ having javascript for the web, python for data analysis and AI as well as rust for low level stuff. It might be a lot to learn rust because already looking at it, it's pretty complicated but that's what should be expected of a low level language I guess. If it seems too difficult to do both at the same time I'll stop but the first step is to make sure that I understand python so that I can not confuse myself. Let's go over the basics"
   ]
  },
  {
   "cell_type": "markdown",
   "id": "04288399-af22-48eb-bad8-70c88f910d72",
   "metadata": {},
   "source": [
    "## Syntax\n",
    "> Asking chatgpt to give me a basic lesson plan of the order I need to learn python, it gave me a learning plan of what I should learn by weeks. Let's test to see if I have what I need to know up to classes. It starts w/ syntax"
   ]
  },
  {
   "cell_type": "markdown",
   "id": "abaf6796-2cb3-4bb5-957c-79768062895c",
   "metadata": {},
   "source": [
    "### Variables, comments, Indentation"
   ]
  },
  {
   "cell_type": "markdown",
   "id": "78efc2b5-c324-4017-b22d-6fe91045c617",
   "metadata": {},
   "source": [
    "Variables in python are all super easy. You just have to initialize variables w/ a name and the value or just the name if it's blank"
   ]
  },
  {
   "cell_type": "code",
   "execution_count": 2,
   "id": "e3432cd8-6433-4c03-972b-e1056b4613b6",
   "metadata": {},
   "outputs": [
    {
     "name": "stdout",
     "output_type": "stream",
     "text": [
      "22\n"
     ]
    }
   ],
   "source": [
    "name_var = 22 \n",
    "print(name_var)"
   ]
  },
  {
   "cell_type": "markdown",
   "id": "4697cab6-2a8a-476f-abdc-2ad6c7107266",
   "metadata": {},
   "source": [
    "Python has optional type hints that can help readability"
   ]
  },
  {
   "cell_type": "code",
   "execution_count": 11,
   "id": "a969e4db-5ba9-436f-9a0c-5e45a56b25b5",
   "metadata": {},
   "outputs": [
    {
     "name": "stdout",
     "output_type": "stream",
     "text": [
      "22\n",
      "Hello govana\n"
     ]
    }
   ],
   "source": [
    "name_var:int = 22 \n",
    "print(name_var)\n",
    "another_var:str = \"Hello govana\" \n",
    "print(another_var)"
   ]
  },
  {
   "cell_type": "markdown",
   "id": "9d9b26cd-68fe-438b-ba72-6c57eef92d54",
   "metadata": {},
   "source": [
    "This can also be used w/ functions and their return values "
   ]
  },
  {
   "cell_type": "code",
   "execution_count": 13,
   "id": "c7d4be39-0003-4bfa-8a95-d1a0f8ec99a6",
   "metadata": {},
   "outputs": [
    {
     "name": "stdout",
     "output_type": "stream",
     "text": [
      "Hello Joseph\n"
     ]
    }
   ],
   "source": [
    "def say_hello_to(name:str)->None:\n",
    "    print(f\"Hello {name}\")\n",
    "say_hello_to(\"Joseph\")"
   ]
  },
  {
   "cell_type": "markdown",
   "id": "6f8d1918-fcf3-4418-b869-fab3135f05f5",
   "metadata": {},
   "source": [
    "- ``None`` is used here because the function returns nothing"
   ]
  },
  {
   "cell_type": "code",
   "execution_count": 14,
   "id": "46b57877-2b95-4b81-89c0-9f8627908923",
   "metadata": {},
   "outputs": [
    {
     "data": {
      "text/plain": [
       "7"
      ]
     },
     "execution_count": 14,
     "metadata": {},
     "output_type": "execute_result"
    }
   ],
   "source": [
    "def add_nums(x:int,y:int)->int:\n",
    "    return int(x) + int(y) \n",
    "add_nums(2,5)"
   ]
  },
  {
   "cell_type": "markdown",
   "id": "daca45ea-bf80-47e4-9745-7f3932d93782",
   "metadata": {},
   "source": [
    "- ``int`` is used here because a number is returned"
   ]
  },
  {
   "cell_type": "code",
   "execution_count": 21,
   "id": "b801e4c6-63b2-4ba8-be33-bd54e8dd2e38",
   "metadata": {},
   "outputs": [],
   "source": [
    "#This is how you comment in python"
   ]
  },
  {
   "cell_type": "markdown",
   "id": "ded55176-a177-408d-9505-08a7d6115450",
   "metadata": {},
   "source": [
    "%%javascript\n",
    "//this is how you comment in javasript !"
   ]
  },
  {
   "cell_type": "markdown",
   "id": "45e9b2aa-a806-4bff-9e44-471577cb22fa",
   "metadata": {},
   "source": [
    "As seen already w/ functions python uses indents rather than curly braces(like some langs-javascript-) "
   ]
  },
  {
   "cell_type": "code",
   "execution_count": 22,
   "id": "9b42bece-9efd-43d8-8540-5b64de7f347a",
   "metadata": {},
   "outputs": [
    {
     "name": "stdout",
     "output_type": "stream",
     "text": [
      "function code\n"
     ]
    }
   ],
   "source": [
    "def function_name():\n",
    "    print(\"function code\")\n",
    "function_name()"
   ]
  },
  {
   "cell_type": "markdown",
   "id": "a9c2abfa-461d-494d-bdbc-06e74014dd11",
   "metadata": {},
   "source": [
    "- The syntax ^\n",
    "- for nesting functions, more indents are needed\n",
    "- indents typically follow 4 space rule (no tabs- as w/ most languages I've come across) "
   ]
  },
  {
   "cell_type": "markdown",
   "id": "a642bf6e-9b8b-4a87-9adf-71bc6fc60515",
   "metadata": {},
   "source": [
    "## Basic Types "
   ]
  },
  {
   "cell_type": "markdown",
   "id": "972f112d-e9a2-414d-8372-2913f8817aa2",
   "metadata": {},
   "source": [
    "The basic types are ``int`` , ``float``  , ``string``"
   ]
  },
  {
   "cell_type": "code",
   "execution_count": 26,
   "id": "99e2e62f-c070-4977-86ec-bd6a75d71e14",
   "metadata": {},
   "outputs": [
    {
     "name": "stdout",
     "output_type": "stream",
     "text": [
      "The integer 22 , the float 22.2 , the string henlo\n"
     ]
    }
   ],
   "source": [
    "numba:int = 22\n",
    "numba_with_decimal:float= 22.2 \n",
    "stringy:str= \"henlo\" \n",
    "\n",
    "print(\"The integer {} , the float {} , the string {}\".format(numba,numba_with_decimal, stringy))"
   ]
  },
  {
   "cell_type": "markdown",
   "id": "54087304-33e6-4ac6-8eaf-2ad84b54cab9",
   "metadata": {},
   "source": [
    "If types are combined python will attempt to change them to the same time"
   ]
  },
  {
   "cell_type": "code",
   "execution_count": 29,
   "id": "aba02fe7-e3bc-456c-9fb6-a384f9947726",
   "metadata": {},
   "outputs": [
    {
     "name": "stdout",
     "output_type": "stream",
     "text": [
      "44.3\n"
     ]
    }
   ],
   "source": [
    "print(22 + 22.3)"
   ]
  },
  {
   "cell_type": "markdown",
   "id": "d8d72788-f947-4842-92c1-12795e9abaff",
   "metadata": {},
   "source": [
    "- Here both numbers are turned into a float so they can be added"
   ]
  },
  {
   "cell_type": "markdown",
   "id": "c62268fe-bffe-4627-823c-338ce546a960",
   "metadata": {},
   "source": [
    "Sometimes that doesn't work "
   ]
  },
  {
   "cell_type": "code",
   "execution_count": 31,
   "id": "a9773e56-7765-4213-a43e-da3f0a654d90",
   "metadata": {},
   "outputs": [
    {
     "ename": "TypeError",
     "evalue": "unsupported operand type(s) for +: 'int' and 'str'",
     "output_type": "error",
     "traceback": [
      "\u001b[0;31m---------------------------------------------------------------------------\u001b[0m",
      "\u001b[0;31mTypeError\u001b[0m                                 Traceback (most recent call last)",
      "Cell \u001b[0;32mIn[31], line 1\u001b[0m\n\u001b[0;32m----> 1\u001b[0m \u001b[38;5;28mprint\u001b[39m(\u001b[38;5;241;43m22\u001b[39;49m\u001b[43m \u001b[49m\u001b[38;5;241;43m+\u001b[39;49m\u001b[43m \u001b[49m\u001b[38;5;124;43m'\u001b[39;49m\u001b[38;5;124;43m22\u001b[39;49m\u001b[38;5;124;43m'\u001b[39;49m) \n",
      "\u001b[0;31mTypeError\u001b[0m: unsupported operand type(s) for +: 'int' and 'str'"
     ]
    }
   ],
   "source": [
    "print(22 + '22') "
   ]
  },
  {
   "cell_type": "markdown",
   "id": "48e34981-2de2-40ae-9b68-eeac621a6212",
   "metadata": {},
   "source": [
    "Here it's because python has a concatenation method for strings that would normally smush em together and that's ruined with another number"
   ]
  },
  {
   "cell_type": "code",
   "execution_count": 32,
   "id": "ee5ee122-d692-46d1-b288-0bdea915f116",
   "metadata": {},
   "outputs": [
    {
     "name": "stdout",
     "output_type": "stream",
     "text": [
      "hi there\n"
     ]
    }
   ],
   "source": [
    "print('hi' + ' ' + 'there')"
   ]
  },
  {
   "cell_type": "markdown",
   "id": "95a59324-ad9b-4394-bff4-7e8699cd080d",
   "metadata": {},
   "source": [
    "It's important to make sure types are the same. It can be done by parsing variables likely to not be the same before putting them together "
   ]
  },
  {
   "cell_type": "code",
   "execution_count": 33,
   "id": "6aae72ca-5d7d-421b-8c9c-c0721a40d55b",
   "metadata": {},
   "outputs": [
    {
     "name": "stdout",
     "output_type": "stream",
     "text": [
      "44\n"
     ]
    }
   ],
   "source": [
    "print(int('22') + 22)"
   ]
  },
  {
   "cell_type": "markdown",
   "id": "07d8af0d-bcf5-4c56-9821-4149023a9ce6",
   "metadata": {},
   "source": [
    "- Here using ``int(value)`` transforms the value into an int\n",
    "- same goes for ``float(value)``\n",
    "- also ``str(value)``"
   ]
  },
  {
   "cell_type": "code",
   "execution_count": 38,
   "id": "b02b404e-77af-4d53-902e-113e870ab4c4",
   "metadata": {},
   "outputs": [
    {
     "name": "stdout",
     "output_type": "stream",
     "text": [
      "22\n"
     ]
    }
   ],
   "source": [
    "ex_val = 22 \n",
    "print(str(ex_val))"
   ]
  },
  {
   "cell_type": "markdown",
   "id": "4354395d-d951-4e74-8017-287dadcb58d6",
   "metadata": {},
   "source": [
    "- It's a string trust me..."
   ]
  },
  {
   "cell_type": "markdown",
   "id": "d976ab9b-3856-4c1b-a9b0-921975bc35f3",
   "metadata": {},
   "source": [
    "Booleans are also a type which represent ``True`` or ``False`` "
   ]
  },
  {
   "cell_type": "code",
   "execution_count": 39,
   "id": "6b8848f3-c611-4df2-bebe-c58e74fe6629",
   "metadata": {},
   "outputs": [
    {
     "name": "stdout",
     "output_type": "stream",
     "text": [
      "True\n",
      "False\n"
     ]
    }
   ],
   "source": [
    "print(True) \n",
    "print(False)"
   ]
  },
  {
   "cell_type": "markdown",
   "id": "13bbee5b-8bc4-47c5-9624-d46b3ba1fe0b",
   "metadata": {},
   "source": [
    "This is mostly used to handle conditions but there are important things to know about booleans\n",
    "- strings are true\n",
    "- numbers are true\n",
    "    - 0s are false\n",
    "- None is false"
   ]
  },
  {
   "cell_type": "code",
   "execution_count": 43,
   "id": "435b1311-28e9-4b34-9f2e-a901dbe61698",
   "metadata": {},
   "outputs": [
    {
     "name": "stdout",
     "output_type": "stream",
     "text": [
      "False\n",
      "True\n",
      "True\n",
      "True\n"
     ]
    }
   ],
   "source": [
    "print(bool(0))\n",
    "\n",
    "print(bool(22))\n",
    "\n",
    "print(bool('hi'))\n",
    "\n",
    "print(bool(-22))"
   ]
  },
  {
   "cell_type": "markdown",
   "id": "32773747-7421-41f5-b8cc-bac6250ea6fe",
   "metadata": {},
   "source": [
    "## Conditionals\n",
    "> if, elif, else "
   ]
  },
  {
   "cell_type": "markdown",
   "id": "41d5022e-a42b-40bf-bb38-4b7ffd49d7fd",
   "metadata": {},
   "source": [
    "Conditionals are all about changing code behavior based on events, variable values and just overall things that are generally not set in stone but instead have potential different outcomes"
   ]
  },
  {
   "cell_type": "code",
   "execution_count": 49,
   "id": "b5ab34c5-cdce-40e1-91af-f970fea07874",
   "metadata": {},
   "outputs": [
    {
     "name": "stdin",
     "output_type": "stream",
     "text": [
      "Guess the number between 1,100 : 22\n"
     ]
    },
    {
     "name": "stdout",
     "output_type": "stream",
     "text": [
      "sorry too low. Correct answer is 67\n"
     ]
    }
   ],
   "source": [
    "import random\n",
    "\n",
    "random_num:int = random.randint(1,100) \n",
    "guess:str = input(\"Guess the number between 1,100 :\")\n",
    "guess:int = int(guess)\n",
    "if guess == random_num:\n",
    "    print(\"yay you guessed right!!\")\n",
    "elif guess > random_num:\n",
    "    print(f\"Sorry you guessed too high. Correct answer is {random_num}\")\n",
    "else:\n",
    "    print('sorry too low. Correct answer is {}'.format(random_num))"
   ]
  },
  {
   "cell_type": "markdown",
   "id": "61310329-73a5-4758-bed0-9ad139bcdcdd",
   "metadata": {},
   "source": [
    "## For & while loops\n",
    "> Loops that continue within a sequence(for) or while a condition is true(while loops)"
   ]
  },
  {
   "cell_type": "markdown",
   "id": "1ff21b68-460e-4289-a12a-8b266b43fc1d",
   "metadata": {},
   "source": [
    "Strings,lists,objects, tuples and sets are all sequences. Since so far I've only covered strings let's use that as an example"
   ]
  },
  {
   "cell_type": "code",
   "execution_count": 50,
   "id": "a7ea9f12-8e1b-49f4-859b-51d28ba6886a",
   "metadata": {},
   "outputs": [
    {
     "name": "stdout",
     "output_type": "stream",
     "text": [
      "h\n",
      "e\n",
      "l\n",
      "l\n",
      "o\n"
     ]
    }
   ],
   "source": [
    "seq = 'hello'\n",
    "\n",
    "for char in seq:\n",
    "    print(char)"
   ]
  },
  {
   "cell_type": "markdown",
   "id": "30895ba0-e932-48f1-8577-815a351d72ae",
   "metadata": {},
   "source": [
    "- Every character in the string is iterated through. The same is done for other types that are sequences"
   ]
  },
  {
   "cell_type": "markdown",
   "id": "c6229163-fbe6-4dde-b744-01d190f30ddb",
   "metadata": {},
   "source": [
    "For while loops let's do a guessing game that keeps going until you're right. I'll use lower numbers this time to make it easier"
   ]
  },
  {
   "cell_type": "code",
   "execution_count": 3,
   "id": "46871fa8-ae07-4307-8aa6-7313ea64bb57",
   "metadata": {},
   "outputs": [
    {
     "name": "stdout",
     "output_type": "stream",
     "text": [
      "Time to guess the lucky numbeeerrr!! It's between 1 and 10\n"
     ]
    },
    {
     "name": "stdin",
     "output_type": "stream",
     "text": [
      "What's your guess?  2\n"
     ]
    },
    {
     "name": "stdout",
     "output_type": "stream",
     "text": [
      "Sorry. Try again\n",
      "too high\n",
      "Time to guess the lucky numbeeerrr!! It's between 1 and 10\n"
     ]
    },
    {
     "name": "stdin",
     "output_type": "stream",
     "text": [
      "What's your guess?  1\n"
     ]
    },
    {
     "name": "stdout",
     "output_type": "stream",
     "text": [
      "You are correeectt\n"
     ]
    }
   ],
   "source": [
    "import random \n",
    "\n",
    "rand_num:int = random.randint(1,11) \n",
    "# up to but not including 11\n",
    "guess:str = ''\n",
    "while guess != rand_num:\n",
    "    print(\"Time to guess the lucky numbeeerrr!! It's between 1 and 10\")\n",
    "    guess:int = int(input(\"What's your guess? \"))\n",
    "    match rand_num == guess:\n",
    "        case True:\n",
    "            print(\"You are correeectt\")\n",
    "            break\n",
    "        case False: \n",
    "            print(\"Sorry. Try again\")\n",
    "            if rand_num > guess:\n",
    "                print('too low')\n",
    "            else:\n",
    "                print('too high')\n",
    "            continue"
   ]
  },
  {
   "cell_type": "markdown",
   "id": "54dbabfb-53f0-46a2-81f2-d8eb26efbd78",
   "metadata": {},
   "source": [
    "## Functions!\n",
    "> Functions are used to deal w/ repeatable code. Functions are like storing multiple lines of code with a *function* to be used for later"
   ]
  },
  {
   "cell_type": "code",
   "execution_count": 10,
   "id": "28d0bcf6-0845-4071-aa63-354b125906e7",
   "metadata": {},
   "outputs": [
    {
     "name": "stdout",
     "output_type": "stream",
     "text": [
      "Hello Dave\n",
      "Hello Cindy\n",
      "Hello Sarah\n"
     ]
    }
   ],
   "source": [
    "def say_hello_to(name:str)->None:\n",
    "    print('Hello {}'.format(name.capitalize()))\n",
    "\n",
    "say_hello_to('dave')\n",
    "say_hello_to('cindy')\n",
    "say_hello_to('sarah')"
   ]
  },
  {
   "cell_type": "markdown",
   "id": "91c7bf18-e355-445f-b38a-825d833661ee",
   "metadata": {},
   "source": [
    "In the code above, the function says high to whatever name is passed in. The name is also capitalized for \\*\\*respect\\*\\* "
   ]
  },
  {
   "cell_type": "code",
   "execution_count": null,
   "id": "de62a541-079f-4cf1-8698-7adfe208bff2",
   "metadata": {},
   "outputs": [],
   "source": []
  }
 ],
 "metadata": {
  "kernelspec": {
   "display_name": "Python 3 (ipykernel)",
   "language": "python",
   "name": "python3"
  },
  "language_info": {
   "codemirror_mode": {
    "name": "ipython",
    "version": 3
   },
   "file_extension": ".py",
   "mimetype": "text/x-python",
   "name": "python",
   "nbconvert_exporter": "python",
   "pygments_lexer": "ipython3",
   "version": "3.12.4"
  }
 },
 "nbformat": 4,
 "nbformat_minor": 5
}
